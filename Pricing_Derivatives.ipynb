{
  "nbformat": 4,
  "nbformat_minor": 0,
  "metadata": {
    "colab": {
      "provenance": [],
      "authorship_tag": "ABX9TyNtlCeD4sZp9QtLc0IBCwFS",
      "include_colab_link": true
    },
    "kernelspec": {
      "name": "python3",
      "display_name": "Python 3"
    },
    "language_info": {
      "name": "python"
    }
  },
  "cells": [
    {
      "cell_type": "markdown",
      "metadata": {
        "id": "view-in-github",
        "colab_type": "text"
      },
      "source": [
        "<a href=\"https://colab.research.google.com/github/Godwin-88/AlgoTrad/blob/main/Pricing_Derivatives.ipynb\" target=\"_parent\"><img src=\"https://colab.research.google.com/assets/colab-badge.svg\" alt=\"Open In Colab\"/></a>"
      ]
    },
    {
      "cell_type": "markdown",
      "source": [
        "Required Libraries"
      ],
      "metadata": {
        "id": "AUO3Kw3Rfva7"
      }
    },
    {
      "cell_type": "code",
      "source": [
        "import numpy as np\n"
      ],
      "metadata": {
        "id": "p0rG0Ffofu6i"
      },
      "execution_count": 4,
      "outputs": []
    },
    {
      "cell_type": "code",
      "execution_count": null,
      "metadata": {
        "colab": {
          "base_uri": "https://localhost:8080/"
        },
        "id": "lF0c0zMgIel3",
        "outputId": "ecd81281-f46b-4d21-ca30-53a09aee4716"
      },
      "outputs": [
        {
          "output_type": "stream",
          "name": "stdout",
          "text": [
            "The price of the European call option is: 27.687010623348797\n"
          ]
        }
      ],
      "source": [
        "\n",
        "def european_call_price(S0, K, T, r, sigma, N):\n",
        "    \"\"\"\n",
        "    Computes the price of a European call option using Monte Carlo simulation.\n",
        "\n",
        "    Args:\n",
        "        S0: Initial stock price.\n",
        "        K: Strike price.\n",
        "        T: Time to maturity.\n",
        "        r: Risk-free interest rate.\n",
        "        sigma: Volatility.\n",
        "        N: Number of simulations.\n",
        "\n",
        "    Returns:\n",
        "        The price of the European call option.\n",
        "    \"\"\"\n",
        "\n",
        "    # Generate random numbers from a standard normal distribution\n",
        "    Z = np.random.standard_normal(N)\n",
        "\n",
        "    # Calculate the stock price at maturity using the geometric Brownian motion model\n",
        "    ST = S0 * np.exp((r - 0.5 * sigma ** 2) * T + sigma * np.sqrt(T) * Z)\n",
        "\n",
        "    # Calculate the payoff of the call option\n",
        "    payoff = np.maximum(ST - K, 0)\n",
        "\n",
        "    # Calculate the present value of the expected payoff\n",
        "    call_price = np.exp(-r * T) * np.mean(payoff)\n",
        "\n",
        "    return call_price\n",
        "\n",
        "# Parameters\n",
        "S0 = 100\n",
        "K = 90\n",
        "T = 1\n",
        "r = 0.1\n",
        "sigma = 0.5\n",
        "N = 1000\n",
        "\n",
        "# Calculate the call price\n",
        "call_price = european_call_price(S0, K, T, r, sigma, N)\n",
        "\n",
        "print(f\"The price of the European call option is: {call_price}\")"
      ]
    },
    {
      "cell_type": "markdown",
      "source": [
        "Binomial Tree Construction"
      ],
      "metadata": {
        "id": "03_PWvStcTaF"
      }
    },
    {
      "cell_type": "code",
      "source": [
        "def binomial_tree(S_0, T, u, d, N):\n",
        "  #The binomial tree is constructed based on 5 parameters including the initial stock price,time horizon, upward movement, downard movement and the number of steps.\n",
        "    S = np.zeros([N + 1, N + 1])  # Underlying price\n",
        "    for i in range(0, N + 1):\n",
        "        S[N, i] = S_0 * (u ** (i)) * (d ** (N - i))\n",
        "    for j in range(N - 1, -1, -1):\n",
        "        for i in range(0, j + 1):\n",
        "            S[j, i] = S_0 * (u ** (i)) * (d ** (j - i))\n",
        "    return S"
      ],
      "metadata": {
        "id": "p2NRaLeOMi8R"
      },
      "execution_count": 2,
      "outputs": []
    },
    {
      "cell_type": "code",
      "source": [
        "Stock = binomial_tree(100, 1, 1.2, 0.8, 2)\n",
        "Stock"
      ],
      "metadata": {
        "colab": {
          "base_uri": "https://localhost:8080/"
        },
        "id": "MmIgpGpvcxCK",
        "outputId": "289046d6-14f4-49d5-ad7a-4926f789475f"
      },
      "execution_count": 5,
      "outputs": [
        {
          "output_type": "execute_result",
          "data": {
            "text/plain": [
              "array([[100.,   0.,   0.],\n",
              "       [ 80., 120.,   0.],\n",
              "       [ 64.,  96., 144.]])"
            ]
          },
          "metadata": {},
          "execution_count": 5
        }
      ]
    },
    {
      "cell_type": "markdown",
      "source": [
        "The output above is an array of values of the stock price at each point in time in a lower triangular matrix."
      ],
      "metadata": {
        "id": "qqTzTWTNf_9m"
      }
    },
    {
      "cell_type": "markdown",
      "source": [
        "**Tree Extension with Call Option Payoffs**\n",
        "\n",
        "\n"
      ],
      "metadata": {
        "id": "nEdb1kuYgJz6"
      }
    },
    {
      "cell_type": "code",
      "source": [
        "def binomial_tree_call(S_0, K, T, u, d, N):\n",
        "  #The function defined above is variant from the previous in that the strike price K is included.\n",
        "    C = np.zeros([N + 1, N + 1])  # Call prices\n",
        "    S = np.zeros([N + 1, N + 1])  # Underlying price\n",
        "    for i in range(0, N + 1):\n",
        "        C[N, i] = max(S_0 * (u ** (i)) * (d ** (N - i)) - K, 0)\n",
        "        S[N, i] = S_0 * (u ** (i)) * (d ** (N - i))\n",
        "    for j in range(N - 1, -1, -1):\n",
        "        for i in range(0, j + 1):\n",
        "            S[j, i] = S_0 * (u ** (i)) * (d ** (j - i))\n",
        "    return S, C\n",
        "    #The C output will return the call option payoff at maturity with S being the array of stock price values at each pint in time."
      ],
      "metadata": {
        "id": "vUEz1USOgNd2"
      },
      "execution_count": 7,
      "outputs": []
    },
    {
      "cell_type": "code",
      "source": [
        "Stock, Call = binomial_tree_call(100, 90, 10, 1.5, 0.5, 5)\n",
        "print(\"Underlying Price Evolution:\\n\", Stock)\n",
        "print(\"Call Option Payoff:\\n\", Call)"
      ],
      "metadata": {
        "id": "8hxfp9t6hRo2",
        "outputId": "7c31bdbf-ef0a-419f-ec17-57e15ea1e91e",
        "colab": {
          "base_uri": "https://localhost:8080/"
        }
      },
      "execution_count": 8,
      "outputs": [
        {
          "output_type": "stream",
          "name": "stdout",
          "text": [
            "Underlying Price Evolution:\n",
            " [[100.      0.      0.      0.      0.      0.   ]\n",
            " [ 50.    150.      0.      0.      0.      0.   ]\n",
            " [ 25.     75.    225.      0.      0.      0.   ]\n",
            " [ 12.5    37.5   112.5   337.5     0.      0.   ]\n",
            " [  6.25   18.75   56.25  168.75  506.25    0.   ]\n",
            " [  3.125   9.375  28.125  84.375 253.125 759.375]]\n",
            "Call Option Payoff:\n",
            " [[  0.      0.      0.      0.      0.      0.   ]\n",
            " [  0.      0.      0.      0.      0.      0.   ]\n",
            " [  0.      0.      0.      0.      0.      0.   ]\n",
            " [  0.      0.      0.      0.      0.      0.   ]\n",
            " [  0.      0.      0.      0.      0.      0.   ]\n",
            " [  0.      0.      0.      0.    163.125 669.375]]\n"
          ]
        }
      ]
    },
    {
      "cell_type": "markdown",
      "source": [
        "**Risk-Neutral Probabilities and backward induction of Call Option Value**"
      ],
      "metadata": {
        "id": "M4L2hpzjhlGz"
      }
    },
    {
      "cell_type": "code",
      "source": [
        "def binomial_call_full(S_ini, K, T, r, u, d, N):\n",
        "#r is introduced as the risk free rate for the computation of risk neutral probabilities.\n",
        "    dt = T / N  # Define time step\n",
        "    p = (np.exp(r * dt) - d) / (u - d)  # Risk neutral probabilities (probs)\n",
        "    C = np.zeros([N + 1, N + 1])  # Call prices\n",
        "    S = np.zeros([N + 1, N + 1])  # Underlying price\n",
        "    for i in range(0, N + 1):\n",
        "        C[N, i] = max(S_ini * (u ** (i)) * (d ** (N - i)) - K, 0)\n",
        "        S[N, i] = S_ini * (u ** (i)) * (d ** (N - i))\n",
        "    for j in range(N - 1, -1, -1):\n",
        "        for i in range(0, j + 1):\n",
        "            C[j, i] = np.exp(-r * dt) * (p * C[j + 1, i + 1] + (1 - p) * C[j + 1, i])\n",
        "            S[j, i] = S_ini * (u ** (i)) * (d ** (j - i))\n",
        "    return C[0, 0], C, S"
      ],
      "metadata": {
        "id": "OtAKenlUhjs8"
      },
      "execution_count": 9,
      "outputs": []
    },
    {
      "cell_type": "code",
      "source": [
        "call_price, C, S = binomial_call_full(100, 90, 10, 0, 1.5, 0.5, 7)\n",
        "print(\"Underlying Price Evolution:\\n\", S)\n",
        "print(\"Call Option Payoff:\\n\", C)\n",
        "print(\"Call Option Price at t=0: \", \"{:.2f}\".format(call_price))"
      ],
      "metadata": {
        "id": "xCmMQm_bi0GU",
        "outputId": "f81c8844-2289-4bd3-d6ef-a903e7204307",
        "colab": {
          "base_uri": "https://localhost:8080/"
        }
      },
      "execution_count": 10,
      "outputs": [
        {
          "output_type": "stream",
          "name": "stdout",
          "text": [
            "Underlying Price Evolution:\n",
            " [[1.00000000e+02 0.00000000e+00 0.00000000e+00 0.00000000e+00\n",
            "  0.00000000e+00 0.00000000e+00 0.00000000e+00 0.00000000e+00]\n",
            " [5.00000000e+01 1.50000000e+02 0.00000000e+00 0.00000000e+00\n",
            "  0.00000000e+00 0.00000000e+00 0.00000000e+00 0.00000000e+00]\n",
            " [2.50000000e+01 7.50000000e+01 2.25000000e+02 0.00000000e+00\n",
            "  0.00000000e+00 0.00000000e+00 0.00000000e+00 0.00000000e+00]\n",
            " [1.25000000e+01 3.75000000e+01 1.12500000e+02 3.37500000e+02\n",
            "  0.00000000e+00 0.00000000e+00 0.00000000e+00 0.00000000e+00]\n",
            " [6.25000000e+00 1.87500000e+01 5.62500000e+01 1.68750000e+02\n",
            "  5.06250000e+02 0.00000000e+00 0.00000000e+00 0.00000000e+00]\n",
            " [3.12500000e+00 9.37500000e+00 2.81250000e+01 8.43750000e+01\n",
            "  2.53125000e+02 7.59375000e+02 0.00000000e+00 0.00000000e+00]\n",
            " [1.56250000e+00 4.68750000e+00 1.40625000e+01 4.21875000e+01\n",
            "  1.26562500e+02 3.79687500e+02 1.13906250e+03 0.00000000e+00]\n",
            " [7.81250000e-01 2.34375000e+00 7.03125000e+00 2.10937500e+01\n",
            "  6.32812500e+01 1.89843750e+02 5.69531250e+02 1.70859375e+03]]\n",
            "Call Option Payoff:\n",
            " [[  55.25024414    0.            0.            0.            0.\n",
            "     0.            0.            0.        ]\n",
            " [  16.85302734   93.64746094    0.            0.            0.\n",
            "     0.            0.            0.        ]\n",
            " [   3.12011719   30.5859375   156.70898438    0.            0.\n",
            "     0.            0.            0.        ]\n",
            " [   0.            6.24023438   54.93164062  258.48632812    0.\n",
            "     0.            0.            0.        ]\n",
            " [   0.            0.           12.48046875   97.3828125   419.58984375\n",
            "     0.            0.            0.        ]\n",
            " [   0.            0.            0.           24.9609375   169.8046875\n",
            "   669.375         0.            0.        ]\n",
            " [   0.            0.            0.            0.           49.921875\n",
            "   289.6875     1049.0625        0.        ]\n",
            " [   0.            0.            0.            0.            0.\n",
            "    99.84375     479.53125    1618.59375   ]]\n",
            "Call Option Price at t=0:  55.25\n"
          ]
        }
      ]
    }
  ]
}