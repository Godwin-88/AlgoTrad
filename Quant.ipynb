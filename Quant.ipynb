{
 "cells": [
  {
   "cell_type": "code",
   "execution_count": 1,
   "id": "b3ebf0ed-717e-4f86-aa16-e023ed102bc4",
   "metadata": {},
   "outputs": [
    {
     "name": "stdout",
     "output_type": "stream",
     "text": [
      "Collecting vizro\n",
      "  Downloading vizro-0.1.19-py3-none-any.whl.metadata (6.9 kB)\n",
      "Collecting dash-ag-grid>=31.0.0 (from vizro)\n",
      "  Downloading dash_ag_grid-31.2.0-py3-none-any.whl.metadata (5.2 kB)\n",
      "Collecting dash-bootstrap-components (from vizro)\n",
      "  Downloading dash_bootstrap_components-1.6.0-py3-none-any.whl.metadata (5.2 kB)\n",
      "Collecting dash-mantine-components<0.13.0 (from vizro)\n",
      "  Downloading dash_mantine_components-0.12.1-py3-none-any.whl.metadata (3.4 kB)\n",
      "Collecting dash>=2.17.1 (from vizro)\n",
      "  Downloading dash-2.17.1-py3-none-any.whl.metadata (10 kB)\n",
      "Collecting flask-caching>=2 (from vizro)\n",
      "  Downloading Flask_Caching-2.3.0-py3-none-any.whl.metadata (2.2 kB)\n",
      "Requirement already satisfied: numpy>=1.22.2 in ./.config/jupyterlab-desktop/jlab_server/lib/python3.12/site-packages (from vizro) (1.26.4)\n",
      "Requirement already satisfied: pandas in ./.config/jupyterlab-desktop/jlab_server/lib/python3.12/site-packages (from vizro) (2.2.2)\n",
      "Collecting pydantic>=1.10.13 (from vizro)\n",
      "  Downloading pydantic-2.8.2-py3-none-any.whl.metadata (125 kB)\n",
      "\u001b[2K     \u001b[90m━━━━━━━━━━━━━━━━━━━━━━━━━━━━━━━━━━━━━\u001b[0m \u001b[32m125.2/125.2 kB\u001b[0m \u001b[31m295.4 kB/s\u001b[0m eta \u001b[36m0:00:00\u001b[0m00:01\u001b[0m00:01\u001b[0m\n",
      "\u001b[?25hRequirement already satisfied: setuptools>=65.5.1 in ./.config/jupyterlab-desktop/jlab_server/lib/python3.12/site-packages (from vizro) (70.0.0)\n",
      "Collecting werkzeug>=3.0.1 (from vizro)\n",
      "  Downloading werkzeug-3.0.3-py3-none-any.whl.metadata (3.7 kB)\n",
      "Collecting wrapt>=1 (from vizro)\n",
      "  Downloading wrapt-1.16.0-cp312-cp312-manylinux_2_5_x86_64.manylinux1_x86_64.manylinux_2_17_x86_64.manylinux2014_x86_64.whl.metadata (6.6 kB)\n",
      "Collecting Flask<3.1,>=1.0.4 (from dash>=2.17.1->vizro)\n",
      "  Downloading flask-3.0.3-py3-none-any.whl.metadata (3.2 kB)\n",
      "Collecting plotly>=5.0.0 (from dash>=2.17.1->vizro)\n",
      "  Downloading plotly-5.23.0-py3-none-any.whl.metadata (7.3 kB)\n",
      "Collecting dash-html-components==2.0.0 (from dash>=2.17.1->vizro)\n",
      "  Downloading dash_html_components-2.0.0-py3-none-any.whl.metadata (3.8 kB)\n",
      "Collecting dash-core-components==2.0.0 (from dash>=2.17.1->vizro)\n",
      "  Downloading dash_core_components-2.0.0-py3-none-any.whl.metadata (2.9 kB)\n",
      "Collecting dash-table==5.0.0 (from dash>=2.17.1->vizro)\n",
      "  Downloading dash_table-5.0.0-py3-none-any.whl.metadata (2.4 kB)\n",
      "Requirement already satisfied: importlib-metadata in ./.config/jupyterlab-desktop/jlab_server/lib/python3.12/site-packages (from dash>=2.17.1->vizro) (7.1.0)\n",
      "Requirement already satisfied: typing-extensions>=4.1.1 in ./.config/jupyterlab-desktop/jlab_server/lib/python3.12/site-packages (from dash>=2.17.1->vizro) (4.11.0)\n",
      "Requirement already satisfied: requests in ./.config/jupyterlab-desktop/jlab_server/lib/python3.12/site-packages (from dash>=2.17.1->vizro) (2.32.2)\n",
      "Collecting retrying (from dash>=2.17.1->vizro)\n",
      "  Downloading retrying-1.3.4-py3-none-any.whl.metadata (6.9 kB)\n",
      "Requirement already satisfied: nest-asyncio in ./.config/jupyterlab-desktop/jlab_server/lib/python3.12/site-packages (from dash>=2.17.1->vizro) (1.6.0)\n",
      "Collecting cachelib<0.10.0,>=0.9.0 (from flask-caching>=2->vizro)\n",
      "  Downloading cachelib-0.9.0-py3-none-any.whl.metadata (1.9 kB)\n",
      "Collecting annotated-types>=0.4.0 (from pydantic>=1.10.13->vizro)\n",
      "  Downloading annotated_types-0.7.0-py3-none-any.whl.metadata (15 kB)\n",
      "Collecting pydantic-core==2.20.1 (from pydantic>=1.10.13->vizro)\n",
      "  Downloading pydantic_core-2.20.1-cp312-cp312-manylinux_2_17_x86_64.manylinux2014_x86_64.whl.metadata (6.6 kB)\n",
      "Requirement already satisfied: MarkupSafe>=2.1.1 in ./.config/jupyterlab-desktop/jlab_server/lib/python3.12/site-packages (from werkzeug>=3.0.1->vizro) (2.1.5)\n",
      "Requirement already satisfied: python-dateutil>=2.8.2 in ./.config/jupyterlab-desktop/jlab_server/lib/python3.12/site-packages (from pandas->vizro) (2.9.0)\n",
      "Requirement already satisfied: pytz>=2020.1 in ./.config/jupyterlab-desktop/jlab_server/lib/python3.12/site-packages (from pandas->vizro) (2024.1)\n",
      "Requirement already satisfied: tzdata>=2022.7 in ./.config/jupyterlab-desktop/jlab_server/lib/python3.12/site-packages (from pandas->vizro) (2024.1)\n",
      "Requirement already satisfied: Jinja2>=3.1.2 in ./.config/jupyterlab-desktop/jlab_server/lib/python3.12/site-packages (from Flask<3.1,>=1.0.4->dash>=2.17.1->vizro) (3.1.4)\n",
      "Collecting itsdangerous>=2.1.2 (from Flask<3.1,>=1.0.4->dash>=2.17.1->vizro)\n",
      "  Downloading itsdangerous-2.2.0-py3-none-any.whl.metadata (1.9 kB)\n",
      "Collecting click>=8.1.3 (from Flask<3.1,>=1.0.4->dash>=2.17.1->vizro)\n",
      "  Downloading click-8.1.7-py3-none-any.whl.metadata (3.0 kB)\n",
      "Collecting blinker>=1.6.2 (from Flask<3.1,>=1.0.4->dash>=2.17.1->vizro)\n",
      "  Downloading blinker-1.8.2-py3-none-any.whl.metadata (1.6 kB)\n",
      "Collecting tenacity>=6.2.0 (from plotly>=5.0.0->dash>=2.17.1->vizro)\n",
      "  Downloading tenacity-9.0.0-py3-none-any.whl.metadata (1.2 kB)\n",
      "Requirement already satisfied: packaging in ./.config/jupyterlab-desktop/jlab_server/lib/python3.12/site-packages (from plotly>=5.0.0->dash>=2.17.1->vizro) (24.0)\n",
      "Requirement already satisfied: six>=1.5 in ./.config/jupyterlab-desktop/jlab_server/lib/python3.12/site-packages (from python-dateutil>=2.8.2->pandas->vizro) (1.16.0)\n",
      "Requirement already satisfied: zipp>=0.5 in ./.config/jupyterlab-desktop/jlab_server/lib/python3.12/site-packages (from importlib-metadata->dash>=2.17.1->vizro) (3.17.0)\n",
      "Requirement already satisfied: charset-normalizer<4,>=2 in ./.config/jupyterlab-desktop/jlab_server/lib/python3.12/site-packages (from requests->dash>=2.17.1->vizro) (3.3.2)\n",
      "Requirement already satisfied: idna<4,>=2.5 in ./.config/jupyterlab-desktop/jlab_server/lib/python3.12/site-packages (from requests->dash>=2.17.1->vizro) (3.7)\n",
      "Requirement already satisfied: urllib3<3,>=1.21.1 in ./.config/jupyterlab-desktop/jlab_server/lib/python3.12/site-packages (from requests->dash>=2.17.1->vizro) (2.2.1)\n",
      "Requirement already satisfied: certifi>=2017.4.17 in ./.config/jupyterlab-desktop/jlab_server/lib/python3.12/site-packages (from requests->dash>=2.17.1->vizro) (2024.2.2)\n",
      "Downloading vizro-0.1.19-py3-none-any.whl (747 kB)\n",
      "\u001b[2K   \u001b[90m━━━━━━━━━━━━━━━━━━━━━━━━━━━━━━━━━━━━━━━━\u001b[0m \u001b[32m747.8/747.8 kB\u001b[0m \u001b[31m1.3 MB/s\u001b[0m eta \u001b[36m0:00:00\u001b[0m00:01\u001b[0m00:01\u001b[0mm\n",
      "\u001b[?25hDownloading dash-2.17.1-py3-none-any.whl (7.5 MB)\n",
      "\u001b[2K   \u001b[90m━━━━━━━━━━━━━━━━━━━━━━━━━━━━━━━━━━━━━━━━\u001b[0m \u001b[32m7.5/7.5 MB\u001b[0m \u001b[31m1.8 MB/s\u001b[0m eta \u001b[36m0:00:00\u001b[0m00:01\u001b[0m00:01\u001b[0m0m\n",
      "\u001b[?25hDownloading dash_core_components-2.0.0-py3-none-any.whl (3.8 kB)\n",
      "Downloading dash_html_components-2.0.0-py3-none-any.whl (4.1 kB)\n",
      "Downloading dash_table-5.0.0-py3-none-any.whl (3.9 kB)\n",
      "Downloading dash_ag_grid-31.2.0-py3-none-any.whl (3.8 MB)\n",
      "\u001b[2K   \u001b[90m━━━━━━━━━━━━━━━━━━━━━━━━━━━━━━━━━━━━━━━━\u001b[0m \u001b[32m3.8/3.8 MB\u001b[0m \u001b[31m1.9 MB/s\u001b[0m eta \u001b[36m0:00:00\u001b[0m00:01\u001b[0m00:01\u001b[0m\n",
      "\u001b[?25hDownloading dash_mantine_components-0.12.1-py3-none-any.whl (500 kB)\n",
      "\u001b[2K   \u001b[90m━━━━━━━━━━━━━━━━━━━━━━━━━━━━━━━━━━━━━━━━\u001b[0m \u001b[32m500.8/500.8 kB\u001b[0m \u001b[31m1.0 MB/s\u001b[0m eta \u001b[36m0:00:00\u001b[0m00:01\u001b[0m00:01\u001b[0m\n",
      "\u001b[?25hDownloading Flask_Caching-2.3.0-py3-none-any.whl (28 kB)\n",
      "Downloading pydantic-2.8.2-py3-none-any.whl (423 kB)\n",
      "\u001b[2K   \u001b[90m━━━━━━━━━━━━━━━━━━━━━━━━━━━━━━━━━━━━━━━━\u001b[0m \u001b[32m423.9/423.9 kB\u001b[0m \u001b[31m1.2 MB/s\u001b[0m eta \u001b[36m0:00:00\u001b[0m00:01\u001b[0m00:01\u001b[0m\n",
      "\u001b[?25hDownloading pydantic_core-2.20.1-cp312-cp312-manylinux_2_17_x86_64.manylinux2014_x86_64.whl (2.1 MB)\n",
      "\u001b[2K   \u001b[90m━━━━━━━━━━━━━━━━━━━━━━━━━━━━━━━━━━━━━━━━\u001b[0m \u001b[32m2.1/2.1 MB\u001b[0m \u001b[31m1.5 MB/s\u001b[0m eta \u001b[36m0:00:00\u001b[0m00:01\u001b[0m00:01\u001b[0m\n",
      "\u001b[?25hDownloading werkzeug-3.0.3-py3-none-any.whl (227 kB)\n",
      "\u001b[2K   \u001b[90m━━━━━━━━━━━━━━━━━━━━━━━━━━━━━━━━━━━━━━━━\u001b[0m \u001b[32m227.3/227.3 kB\u001b[0m \u001b[31m1.1 MB/s\u001b[0m eta \u001b[36m0:00:00\u001b[0m00:01\u001b[0m00:01\u001b[0m\n",
      "\u001b[?25hDownloading wrapt-1.16.0-cp312-cp312-manylinux_2_5_x86_64.manylinux1_x86_64.manylinux_2_17_x86_64.manylinux2014_x86_64.whl (87 kB)\n",
      "\u001b[2K   \u001b[90m━━━━━━━━━━━━━━━━━━━━━━━━━━━━━━━━━━━━━━━━\u001b[0m \u001b[32m87.3/87.3 kB\u001b[0m \u001b[31m682.1 kB/s\u001b[0m eta \u001b[36m0:00:00\u001b[0m\u001b[36m0:00:01\u001b[0m\n",
      "\u001b[?25hDownloading dash_bootstrap_components-1.6.0-py3-none-any.whl (222 kB)\n",
      "\u001b[2K   \u001b[90m━━━━━━━━━━━━━━━━━━━━━━━━━━━━━━━━━━━━━━━━\u001b[0m \u001b[32m222.5/222.5 kB\u001b[0m \u001b[31m1.1 MB/s\u001b[0m eta \u001b[36m0:00:00\u001b[0ma \u001b[36m0:00:01\u001b[0m\n",
      "\u001b[?25hDownloading annotated_types-0.7.0-py3-none-any.whl (13 kB)\n",
      "Downloading cachelib-0.9.0-py3-none-any.whl (15 kB)\n",
      "Downloading flask-3.0.3-py3-none-any.whl (101 kB)\n",
      "\u001b[2K   \u001b[90m━━━━━━━━━━━━━━━━━━━━━━━━━━━━━━━━━━━━━━━\u001b[0m \u001b[32m101.7/101.7 kB\u001b[0m \u001b[31m408.9 kB/s\u001b[0m eta \u001b[36m0:00:00\u001b[0m\u001b[36m0:00:01\u001b[0m\n",
      "\u001b[?25hDownloading plotly-5.23.0-py3-none-any.whl (17.3 MB)\n",
      "\u001b[2K   \u001b[90m━━━━━━━━━━━━━━━━━━━━━━━━━━━━━━━━━━━━━━━━\u001b[0m \u001b[32m17.3/17.3 MB\u001b[0m \u001b[31m1.4 MB/s\u001b[0m eta \u001b[36m0:00:00\u001b[0m00:01\u001b[0m00:01\u001b[0m\n",
      "\u001b[?25hDownloading retrying-1.3.4-py3-none-any.whl (11 kB)\n",
      "Downloading blinker-1.8.2-py3-none-any.whl (9.5 kB)\n",
      "Downloading click-8.1.7-py3-none-any.whl (97 kB)\n",
      "\u001b[2K   \u001b[90m━━━━━━━━━━━━━━━━━━━━━━━━━━━━━━━━━━━━━━━━\u001b[0m \u001b[32m97.9/97.9 kB\u001b[0m \u001b[31m646.2 kB/s\u001b[0m eta \u001b[36m0:00:00\u001b[0m\u001b[36m0:00:01\u001b[0m\n",
      "\u001b[?25hDownloading itsdangerous-2.2.0-py3-none-any.whl (16 kB)\n",
      "Downloading tenacity-9.0.0-py3-none-any.whl (28 kB)\n",
      "Installing collected packages: dash-table, dash-mantine-components, dash-html-components, dash-core-components, wrapt, werkzeug, tenacity, retrying, pydantic-core, itsdangerous, click, cachelib, blinker, annotated-types, pydantic, plotly, Flask, flask-caching, dash, dash-bootstrap-components, dash-ag-grid, vizro\n",
      "Successfully installed Flask-3.0.3 annotated-types-0.7.0 blinker-1.8.2 cachelib-0.9.0 click-8.1.7 dash-2.17.1 dash-ag-grid-31.2.0 dash-bootstrap-components-1.6.0 dash-core-components-2.0.0 dash-html-components-2.0.0 dash-mantine-components-0.12.1 dash-table-5.0.0 flask-caching-2.3.0 itsdangerous-2.2.0 plotly-5.23.0 pydantic-2.8.2 pydantic-core-2.20.1 retrying-1.3.4 tenacity-9.0.0 vizro-0.1.19 werkzeug-3.0.3 wrapt-1.16.0\n",
      "Note: you may need to restart the kernel to use updated packages.\n"
     ]
    }
   ],
   "source": [
    "pip install vizro"
   ]
  },
  {
   "cell_type": "code",
   "execution_count": 2,
   "id": "69f246a8-d164-4dc8-b23f-744c0f91b345",
   "metadata": {},
   "outputs": [
    {
     "name": "stdout",
     "output_type": "stream",
     "text": [
      "Collecting googlefinance\n",
      "  Downloading googlefinance-0.7.tar.gz (2.5 kB)\n",
      "  Preparing metadata (setup.py) ... \u001b[?25ldone\n",
      "\u001b[?25hBuilding wheels for collected packages: googlefinance\n",
      "  Building wheel for googlefinance (setup.py) ... \u001b[?25ldone\n",
      "\u001b[?25h  Created wheel for googlefinance: filename=googlefinance-0.7-py3-none-any.whl size=2563 sha256=34e6c3d167c3cac0f8c2468f03c2a159d5a258ab47b8bd57421ce946255247de\n",
      "  Stored in directory: /home/ed/snap/jupyterlab-desktop/common/.cache/pip/wheels/95/6c/b2/648911716579934b2b1964cd6a10992bd6b6d3ca444d29a812\n",
      "Successfully built googlefinance\n",
      "Installing collected packages: googlefinance\n",
      "Successfully installed googlefinance-0.7\n",
      "Note: you may need to restart the kernel to use updated packages.\n"
     ]
    }
   ],
   "source": [
    "pip install googlefinance\n"
   ]
  },
  {
   "cell_type": "code",
   "execution_count": 3,
   "id": "d2c999cb-4a60-474c-8bf3-e6c2a9044e6a",
   "metadata": {},
   "outputs": [
    {
     "name": "stdout",
     "output_type": "stream",
     "text": [
      "Collecting wallstreet\n",
      "  Downloading wallstreet-0.4.0-py3-none-any.whl.metadata (602 bytes)\n",
      "Requirement already satisfied: requests<3.0,>=2.31 in ./.config/jupyterlab-desktop/jlab_server/lib/python3.12/site-packages (from wallstreet) (2.32.2)\n",
      "Requirement already satisfied: scipy<2.0,>=1.12 in ./.config/jupyterlab-desktop/jlab_server/lib/python3.12/site-packages (from wallstreet) (1.13.1)\n",
      "Collecting yfinance<0.3.0,>=0.2.37 (from wallstreet)\n",
      "  Downloading yfinance-0.2.41-py2.py3-none-any.whl.metadata (11 kB)\n",
      "Requirement already satisfied: charset-normalizer<4,>=2 in ./.config/jupyterlab-desktop/jlab_server/lib/python3.12/site-packages (from requests<3.0,>=2.31->wallstreet) (3.3.2)\n",
      "Requirement already satisfied: idna<4,>=2.5 in ./.config/jupyterlab-desktop/jlab_server/lib/python3.12/site-packages (from requests<3.0,>=2.31->wallstreet) (3.7)\n",
      "Requirement already satisfied: urllib3<3,>=1.21.1 in ./.config/jupyterlab-desktop/jlab_server/lib/python3.12/site-packages (from requests<3.0,>=2.31->wallstreet) (2.2.1)\n",
      "Requirement already satisfied: certifi>=2017.4.17 in ./.config/jupyterlab-desktop/jlab_server/lib/python3.12/site-packages (from requests<3.0,>=2.31->wallstreet) (2024.2.2)\n",
      "Requirement already satisfied: numpy<2.3,>=1.22.4 in ./.config/jupyterlab-desktop/jlab_server/lib/python3.12/site-packages (from scipy<2.0,>=1.12->wallstreet) (1.26.4)\n",
      "Requirement already satisfied: pandas>=1.3.0 in ./.config/jupyterlab-desktop/jlab_server/lib/python3.12/site-packages (from yfinance<0.3.0,>=0.2.37->wallstreet) (2.2.2)\n",
      "Collecting multitasking>=0.0.7 (from yfinance<0.3.0,>=0.2.37->wallstreet)\n",
      "  Downloading multitasking-0.0.11-py3-none-any.whl.metadata (5.5 kB)\n",
      "Collecting lxml>=4.9.1 (from yfinance<0.3.0,>=0.2.37->wallstreet)\n",
      "  Downloading lxml-5.2.2-cp312-cp312-manylinux_2_28_x86_64.whl.metadata (3.4 kB)\n",
      "Requirement already satisfied: platformdirs>=2.0.0 in ./.config/jupyterlab-desktop/jlab_server/lib/python3.12/site-packages (from yfinance<0.3.0,>=0.2.37->wallstreet) (4.2.2)\n",
      "Requirement already satisfied: pytz>=2022.5 in ./.config/jupyterlab-desktop/jlab_server/lib/python3.12/site-packages (from yfinance<0.3.0,>=0.2.37->wallstreet) (2024.1)\n",
      "Requirement already satisfied: frozendict>=2.3.4 in ./.config/jupyterlab-desktop/jlab_server/lib/python3.12/site-packages (from yfinance<0.3.0,>=0.2.37->wallstreet) (2.4.4)\n",
      "Collecting peewee>=3.16.2 (from yfinance<0.3.0,>=0.2.37->wallstreet)\n",
      "  Downloading peewee-3.17.6.tar.gz (3.0 MB)\n",
      "\u001b[2K     \u001b[90m━━━━━━━━━━━━━━━━━━━━━━━━━━━━━━━━━━━━━━━━\u001b[0m \u001b[32m3.0/3.0 MB\u001b[0m \u001b[31m1.9 MB/s\u001b[0m eta \u001b[36m0:00:00\u001b[0m00:01\u001b[0m00:01\u001b[0m0m\n",
      "\u001b[?25h  Installing build dependencies ... \u001b[?25ldone\n",
      "\u001b[?25h  Getting requirements to build wheel ... \u001b[?25ldone\n",
      "\u001b[?25h  Preparing metadata (pyproject.toml) ... \u001b[?25ldone\n",
      "\u001b[?25hRequirement already satisfied: beautifulsoup4>=4.11.1 in ./.config/jupyterlab-desktop/jlab_server/lib/python3.12/site-packages (from yfinance<0.3.0,>=0.2.37->wallstreet) (4.12.3)\n",
      "Collecting html5lib>=1.1 (from yfinance<0.3.0,>=0.2.37->wallstreet)\n",
      "  Downloading html5lib-1.1-py2.py3-none-any.whl.metadata (16 kB)\n",
      "Requirement already satisfied: soupsieve>1.2 in ./.config/jupyterlab-desktop/jlab_server/lib/python3.12/site-packages (from beautifulsoup4>=4.11.1->yfinance<0.3.0,>=0.2.37->wallstreet) (2.5)\n",
      "Requirement already satisfied: six>=1.9 in ./.config/jupyterlab-desktop/jlab_server/lib/python3.12/site-packages (from html5lib>=1.1->yfinance<0.3.0,>=0.2.37->wallstreet) (1.16.0)\n",
      "Requirement already satisfied: webencodings in ./.config/jupyterlab-desktop/jlab_server/lib/python3.12/site-packages (from html5lib>=1.1->yfinance<0.3.0,>=0.2.37->wallstreet) (0.5.1)\n",
      "Requirement already satisfied: python-dateutil>=2.8.2 in ./.config/jupyterlab-desktop/jlab_server/lib/python3.12/site-packages (from pandas>=1.3.0->yfinance<0.3.0,>=0.2.37->wallstreet) (2.9.0)\n",
      "Requirement already satisfied: tzdata>=2022.7 in ./.config/jupyterlab-desktop/jlab_server/lib/python3.12/site-packages (from pandas>=1.3.0->yfinance<0.3.0,>=0.2.37->wallstreet) (2024.1)\n",
      "Downloading wallstreet-0.4.0-py3-none-any.whl (7.3 kB)\n",
      "Downloading yfinance-0.2.41-py2.py3-none-any.whl (73 kB)\n",
      "\u001b[2K   \u001b[90m━━━━━━━━━━━━━━━━━━━━━━━━━━━━━━━━━━━━━━━━\u001b[0m \u001b[32m73.5/73.5 kB\u001b[0m \u001b[31m629.3 kB/s\u001b[0m eta \u001b[36m0:00:00\u001b[0m:01\u001b[0m\n",
      "\u001b[?25hDownloading html5lib-1.1-py2.py3-none-any.whl (112 kB)\n",
      "\u001b[2K   \u001b[90m━━━━━━━━━━━━━━━━━━━━━━━━━━━━━━━━━━━━━━━\u001b[0m \u001b[32m112.2/112.2 kB\u001b[0m \u001b[31m840.2 kB/s\u001b[0m eta \u001b[36m0:00:00\u001b[0m \u001b[36m0:00:01\u001b[0m\n",
      "\u001b[?25hDownloading lxml-5.2.2-cp312-cp312-manylinux_2_28_x86_64.whl (4.9 MB)\n",
      "\u001b[2K   \u001b[90m━━━━━━━━━━━━━━━━━━━━━━━━━━━━━━━━━━━━━━━━\u001b[0m \u001b[32m4.9/4.9 MB\u001b[0m \u001b[31m2.1 MB/s\u001b[0m eta \u001b[36m0:00:00\u001b[0m00:01\u001b[0m00:01\u001b[0m\n",
      "\u001b[?25hDownloading multitasking-0.0.11-py3-none-any.whl (8.5 kB)\n",
      "Building wheels for collected packages: peewee\n",
      "  Building wheel for peewee (pyproject.toml) ... \u001b[?25ldone\n",
      "\u001b[?25h  Created wheel for peewee: filename=peewee-3.17.6-py3-none-any.whl size=138890 sha256=58f41d817f7d7f0b37235afa29210a6633dda956981c0c533d29ed2a251d7991\n",
      "  Stored in directory: /home/ed/snap/jupyterlab-desktop/common/.cache/pip/wheels/a6/5e/0f/8319805c4115320e0d3e8fb5799b114a2e4c4a3d6c7e523b06\n",
      "Successfully built peewee\n",
      "Installing collected packages: peewee, multitasking, lxml, html5lib, yfinance, wallstreet\n",
      "Successfully installed html5lib-1.1 lxml-5.2.2 multitasking-0.0.11 peewee-3.17.6 wallstreet-0.4.0 yfinance-0.2.41\n",
      "Note: you may need to restart the kernel to use updated packages.\n"
     ]
    }
   ],
   "source": [
    "pip install wallstreet"
   ]
  },
  {
   "cell_type": "code",
   "execution_count": 4,
   "id": "f4923099-3351-45e0-b2c4-aba81b5ca975",
   "metadata": {},
   "outputs": [
    {
     "name": "stdout",
     "output_type": "stream",
     "text": [
      "Requirement already satisfied: yfinance in ./.config/jupyterlab-desktop/jlab_server/lib/python3.12/site-packages (0.2.41)\n",
      "Requirement already satisfied: pandas>=1.3.0 in ./.config/jupyterlab-desktop/jlab_server/lib/python3.12/site-packages (from yfinance) (2.2.2)\n",
      "Requirement already satisfied: numpy>=1.16.5 in ./.config/jupyterlab-desktop/jlab_server/lib/python3.12/site-packages (from yfinance) (1.26.4)\n",
      "Requirement already satisfied: requests>=2.31 in ./.config/jupyterlab-desktop/jlab_server/lib/python3.12/site-packages (from yfinance) (2.32.2)\n",
      "Requirement already satisfied: multitasking>=0.0.7 in ./.config/jupyterlab-desktop/jlab_server/lib/python3.12/site-packages (from yfinance) (0.0.11)\n",
      "Requirement already satisfied: lxml>=4.9.1 in ./.config/jupyterlab-desktop/jlab_server/lib/python3.12/site-packages (from yfinance) (5.2.2)\n",
      "Requirement already satisfied: platformdirs>=2.0.0 in ./.config/jupyterlab-desktop/jlab_server/lib/python3.12/site-packages (from yfinance) (4.2.2)\n",
      "Requirement already satisfied: pytz>=2022.5 in ./.config/jupyterlab-desktop/jlab_server/lib/python3.12/site-packages (from yfinance) (2024.1)\n",
      "Requirement already satisfied: frozendict>=2.3.4 in ./.config/jupyterlab-desktop/jlab_server/lib/python3.12/site-packages (from yfinance) (2.4.4)\n",
      "Requirement already satisfied: peewee>=3.16.2 in ./.config/jupyterlab-desktop/jlab_server/lib/python3.12/site-packages (from yfinance) (3.17.6)\n",
      "Requirement already satisfied: beautifulsoup4>=4.11.1 in ./.config/jupyterlab-desktop/jlab_server/lib/python3.12/site-packages (from yfinance) (4.12.3)\n",
      "Requirement already satisfied: html5lib>=1.1 in ./.config/jupyterlab-desktop/jlab_server/lib/python3.12/site-packages (from yfinance) (1.1)\n",
      "Requirement already satisfied: soupsieve>1.2 in ./.config/jupyterlab-desktop/jlab_server/lib/python3.12/site-packages (from beautifulsoup4>=4.11.1->yfinance) (2.5)\n",
      "Requirement already satisfied: six>=1.9 in ./.config/jupyterlab-desktop/jlab_server/lib/python3.12/site-packages (from html5lib>=1.1->yfinance) (1.16.0)\n",
      "Requirement already satisfied: webencodings in ./.config/jupyterlab-desktop/jlab_server/lib/python3.12/site-packages (from html5lib>=1.1->yfinance) (0.5.1)\n",
      "Requirement already satisfied: python-dateutil>=2.8.2 in ./.config/jupyterlab-desktop/jlab_server/lib/python3.12/site-packages (from pandas>=1.3.0->yfinance) (2.9.0)\n",
      "Requirement already satisfied: tzdata>=2022.7 in ./.config/jupyterlab-desktop/jlab_server/lib/python3.12/site-packages (from pandas>=1.3.0->yfinance) (2024.1)\n",
      "Requirement already satisfied: charset-normalizer<4,>=2 in ./.config/jupyterlab-desktop/jlab_server/lib/python3.12/site-packages (from requests>=2.31->yfinance) (3.3.2)\n",
      "Requirement already satisfied: idna<4,>=2.5 in ./.config/jupyterlab-desktop/jlab_server/lib/python3.12/site-packages (from requests>=2.31->yfinance) (3.7)\n",
      "Requirement already satisfied: urllib3<3,>=1.21.1 in ./.config/jupyterlab-desktop/jlab_server/lib/python3.12/site-packages (from requests>=2.31->yfinance) (2.2.1)\n",
      "Requirement already satisfied: certifi>=2017.4.17 in ./.config/jupyterlab-desktop/jlab_server/lib/python3.12/site-packages (from requests>=2.31->yfinance) (2024.2.2)\n",
      "Note: you may need to restart the kernel to use updated packages.\n"
     ]
    }
   ],
   "source": [
    "pip install yfinance"
   ]
  },
  {
   "cell_type": "code",
   "execution_count": 8,
   "id": "b7ea2430-6144-42ea-841d-f05021bd3c1b",
   "metadata": {},
   "outputs": [
    {
     "name": "stdout",
     "output_type": "stream",
     "text": [
      "Collecting pandas-datareader\n",
      "  Downloading pandas_datareader-0.10.0-py3-none-any.whl.metadata (2.9 kB)\n",
      "Requirement already satisfied: lxml in ./.config/jupyterlab-desktop/jlab_server/lib/python3.12/site-packages (from pandas-datareader) (5.2.2)\n",
      "Requirement already satisfied: pandas>=0.23 in ./.config/jupyterlab-desktop/jlab_server/lib/python3.12/site-packages (from pandas-datareader) (2.2.2)\n",
      "Requirement already satisfied: requests>=2.19.0 in ./.config/jupyterlab-desktop/jlab_server/lib/python3.12/site-packages (from pandas-datareader) (2.32.2)\n",
      "Requirement already satisfied: numpy>=1.26.0 in ./.config/jupyterlab-desktop/jlab_server/lib/python3.12/site-packages (from pandas>=0.23->pandas-datareader) (1.26.4)\n",
      "Requirement already satisfied: python-dateutil>=2.8.2 in ./.config/jupyterlab-desktop/jlab_server/lib/python3.12/site-packages (from pandas>=0.23->pandas-datareader) (2.9.0)\n",
      "Requirement already satisfied: pytz>=2020.1 in ./.config/jupyterlab-desktop/jlab_server/lib/python3.12/site-packages (from pandas>=0.23->pandas-datareader) (2024.1)\n",
      "Requirement already satisfied: tzdata>=2022.7 in ./.config/jupyterlab-desktop/jlab_server/lib/python3.12/site-packages (from pandas>=0.23->pandas-datareader) (2024.1)\n",
      "Requirement already satisfied: charset-normalizer<4,>=2 in ./.config/jupyterlab-desktop/jlab_server/lib/python3.12/site-packages (from requests>=2.19.0->pandas-datareader) (3.3.2)\n",
      "Requirement already satisfied: idna<4,>=2.5 in ./.config/jupyterlab-desktop/jlab_server/lib/python3.12/site-packages (from requests>=2.19.0->pandas-datareader) (3.7)\n",
      "Requirement already satisfied: urllib3<3,>=1.21.1 in ./.config/jupyterlab-desktop/jlab_server/lib/python3.12/site-packages (from requests>=2.19.0->pandas-datareader) (2.2.1)\n",
      "Requirement already satisfied: certifi>=2017.4.17 in ./.config/jupyterlab-desktop/jlab_server/lib/python3.12/site-packages (from requests>=2.19.0->pandas-datareader) (2024.2.2)\n",
      "Requirement already satisfied: six>=1.5 in ./.config/jupyterlab-desktop/jlab_server/lib/python3.12/site-packages (from python-dateutil>=2.8.2->pandas>=0.23->pandas-datareader) (1.16.0)\n",
      "Downloading pandas_datareader-0.10.0-py3-none-any.whl (109 kB)\n",
      "\u001b[2K   \u001b[90m━━━━━━━━━━━━━━━━━━━━━━━━━━━━━━━━━━━━━━━\u001b[0m \u001b[32m109.5/109.5 kB\u001b[0m \u001b[31m335.8 kB/s\u001b[0m eta \u001b[36m0:00:00\u001b[0ma \u001b[36m0:00:01\u001b[0m\n",
      "\u001b[?25hInstalling collected packages: pandas-datareader\n",
      "Successfully installed pandas-datareader-0.10.0\n",
      "Note: you may need to restart the kernel to use updated packages.\n"
     ]
    }
   ],
   "source": [
    "%pip install pandas-datareader\n",
    "\n"
   ]
  },
  {
   "cell_type": "code",
   "execution_count": 9,
   "id": "5a933506-e49d-4a81-87a7-56bc4791ad9f",
   "metadata": {},
   "outputs": [
    {
     "name": "stdout",
     "output_type": "stream",
     "text": [
      "Collecting stock_extractor\n",
      "  Downloading stock_extractor-0.2.tar.gz (3.8 kB)\n",
      "  Preparing metadata (setup.py) ... \u001b[?25ldone\n",
      "\u001b[?25hRequirement already satisfied: requests in ./.config/jupyterlab-desktop/jlab_server/lib/python3.12/site-packages (from stock_extractor) (2.32.2)\n",
      "Requirement already satisfied: pandas in ./.config/jupyterlab-desktop/jlab_server/lib/python3.12/site-packages (from stock_extractor) (2.2.2)\n",
      "Requirement already satisfied: beautifulsoup4 in ./.config/jupyterlab-desktop/jlab_server/lib/python3.12/site-packages (from stock_extractor) (4.12.3)\n",
      "Collecting dateutils (from stock_extractor)\n",
      "  Downloading dateutils-0.6.12-py2.py3-none-any.whl.metadata (1.3 kB)\n",
      "Requirement already satisfied: soupsieve>1.2 in ./.config/jupyterlab-desktop/jlab_server/lib/python3.12/site-packages (from beautifulsoup4->stock_extractor) (2.5)\n",
      "Requirement already satisfied: python-dateutil in ./.config/jupyterlab-desktop/jlab_server/lib/python3.12/site-packages (from dateutils->stock_extractor) (2.9.0)\n",
      "Requirement already satisfied: pytz in ./.config/jupyterlab-desktop/jlab_server/lib/python3.12/site-packages (from dateutils->stock_extractor) (2024.1)\n",
      "Requirement already satisfied: numpy>=1.26.0 in ./.config/jupyterlab-desktop/jlab_server/lib/python3.12/site-packages (from pandas->stock_extractor) (1.26.4)\n",
      "Requirement already satisfied: tzdata>=2022.7 in ./.config/jupyterlab-desktop/jlab_server/lib/python3.12/site-packages (from pandas->stock_extractor) (2024.1)\n",
      "Requirement already satisfied: charset-normalizer<4,>=2 in ./.config/jupyterlab-desktop/jlab_server/lib/python3.12/site-packages (from requests->stock_extractor) (3.3.2)\n",
      "Requirement already satisfied: idna<4,>=2.5 in ./.config/jupyterlab-desktop/jlab_server/lib/python3.12/site-packages (from requests->stock_extractor) (3.7)\n",
      "Requirement already satisfied: urllib3<3,>=1.21.1 in ./.config/jupyterlab-desktop/jlab_server/lib/python3.12/site-packages (from requests->stock_extractor) (2.2.1)\n",
      "Requirement already satisfied: certifi>=2017.4.17 in ./.config/jupyterlab-desktop/jlab_server/lib/python3.12/site-packages (from requests->stock_extractor) (2024.2.2)\n",
      "Requirement already satisfied: six>=1.5 in ./.config/jupyterlab-desktop/jlab_server/lib/python3.12/site-packages (from python-dateutil->dateutils->stock_extractor) (1.16.0)\n",
      "Downloading dateutils-0.6.12-py2.py3-none-any.whl (5.7 kB)\n",
      "Building wheels for collected packages: stock_extractor\n",
      "  Building wheel for stock_extractor (setup.py) ... \u001b[?25ldone\n",
      "\u001b[?25h  Created wheel for stock_extractor: filename=stock_extractor-0.2-py3-none-any.whl size=3455 sha256=b2d1aa2b658c2acd2c6f33271ff0089a310562e14c678627ecc815c2fc87d9f6\n",
      "  Stored in directory: /home/ed/snap/jupyterlab-desktop/common/.cache/pip/wheels/c6/0a/ec/2b250d340cfedc4081f7fc63ff8615bf5cccfc1bdd09169936\n",
      "Successfully built stock_extractor\n",
      "Installing collected packages: dateutils, stock_extractor\n",
      "Successfully installed dateutils-0.6.12 stock_extractor-0.2\n",
      "Note: you may need to restart the kernel to use updated packages.\n"
     ]
    }
   ],
   "source": [
    "%pip install stock_extractor"
   ]
  },
  {
   "cell_type": "code",
   "execution_count": 10,
   "id": "9ab8ac56-a3f1-41f0-94d8-f67800f1becf",
   "metadata": {},
   "outputs": [
    {
     "name": "stdout",
     "output_type": "stream",
     "text": [
      "Collecting finsymbols\n",
      "  Downloading finsymbols-1.3.0.tar.gz (3.5 kB)\n",
      "  Preparing metadata (setup.py) ... \u001b[?25ldone\n",
      "\u001b[?25hRequirement already satisfied: beautifulsoup4>=4.2.1 in ./.config/jupyterlab-desktop/jlab_server/lib/python3.12/site-packages (from finsymbols) (4.12.3)\n",
      "Requirement already satisfied: soupsieve>1.2 in ./.config/jupyterlab-desktop/jlab_server/lib/python3.12/site-packages (from beautifulsoup4>=4.2.1->finsymbols) (2.5)\n",
      "Building wheels for collected packages: finsymbols\n",
      "  Building wheel for finsymbols (setup.py) ... \u001b[?25ldone\n",
      "\u001b[?25h  Created wheel for finsymbols: filename=finsymbols-1.3.0-py3-none-any.whl size=4386 sha256=5b0b2e5ac5d9bac5986d1d4a504b4f455e8fc461ad22b1e18b0ab5fa4cf472dd\n",
      "  Stored in directory: /home/ed/snap/jupyterlab-desktop/common/.cache/pip/wheels/3d/54/de/1046968866d5504a37e86cdbfff025c964a4441a9cc73eef3d\n",
      "Successfully built finsymbols\n",
      "Installing collected packages: finsymbols\n",
      "Successfully installed finsymbols-1.3.0\n",
      "Note: you may need to restart the kernel to use updated packages.\n"
     ]
    }
   ],
   "source": [
    "pip install finsymbols"
   ]
  },
  {
   "cell_type": "code",
   "execution_count": 11,
   "id": "50b3c0b7-c810-4b1d-a286-b24f8aadf3ac",
   "metadata": {},
   "outputs": [
    {
     "name": "stdout",
     "output_type": "stream",
     "text": [
      "Collecting IBApi\n",
      "  Downloading ibapi-9.81.1.post1.tar.gz (61 kB)\n",
      "\u001b[2K     \u001b[90m━━━━━━━━━━━━━━━━━━━━━━━━━━━━━━━━━━━━━━━\u001b[0m \u001b[32m61.1/61.1 kB\u001b[0m \u001b[31m242.3 kB/s\u001b[0m eta \u001b[36m0:00:00\u001b[0ma \u001b[36m0:00:01\u001b[0m\n",
      "\u001b[?25h  Preparing metadata (setup.py) ... \u001b[?25ldone\n",
      "\u001b[?25hBuilding wheels for collected packages: IBApi\n",
      "  Building wheel for IBApi (setup.py) ... \u001b[?25ldone\n",
      "\u001b[?25h  Created wheel for IBApi: filename=ibapi-9.81.1.post1-py3-none-any.whl size=67941 sha256=80c624aef8214e77526b57736d0b51d477fad413e8921e3bfb0a52d6fec53a06\n",
      "  Stored in directory: /home/ed/snap/jupyterlab-desktop/common/.cache/pip/wheels/07/e7/d4/b94d0968474f56f8a2c3eafe3debcc340f15ef1ba362eb38a8\n",
      "Successfully built IBApi\n",
      "Installing collected packages: IBApi\n",
      "Successfully installed IBApi-9.81.1.post1\n",
      "Note: you may need to restart the kernel to use updated packages.\n"
     ]
    }
   ],
   "source": [
    "pip install IBApi"
   ]
  },
  {
   "cell_type": "code",
   "execution_count": 12,
   "id": "75f4e6e9-71bb-44e1-9cac-98f8d1e801a2",
   "metadata": {},
   "outputs": [
    {
     "name": "stdout",
     "output_type": "stream",
     "text": [
      "Collecting inquisitor\n",
      "  Downloading inquisitor-0.1.9-py2.py3-none-any.whl.metadata (1.9 kB)\n",
      "Requirement already satisfied: requests in ./.config/jupyterlab-desktop/jlab_server/lib/python3.12/site-packages (from inquisitor) (2.32.2)\n",
      "Requirement already satisfied: charset-normalizer<4,>=2 in ./.config/jupyterlab-desktop/jlab_server/lib/python3.12/site-packages (from requests->inquisitor) (3.3.2)\n",
      "Requirement already satisfied: idna<4,>=2.5 in ./.config/jupyterlab-desktop/jlab_server/lib/python3.12/site-packages (from requests->inquisitor) (3.7)\n",
      "Requirement already satisfied: urllib3<3,>=1.21.1 in ./.config/jupyterlab-desktop/jlab_server/lib/python3.12/site-packages (from requests->inquisitor) (2.2.1)\n",
      "Requirement already satisfied: certifi>=2017.4.17 in ./.config/jupyterlab-desktop/jlab_server/lib/python3.12/site-packages (from requests->inquisitor) (2024.2.2)\n",
      "Downloading inquisitor-0.1.9-py2.py3-none-any.whl (6.5 kB)\n",
      "Installing collected packages: inquisitor\n",
      "Successfully installed inquisitor-0.1.9\n",
      "Note: you may need to restart the kernel to use updated packages.\n"
     ]
    }
   ],
   "source": [
    "pip install inquisitor"
   ]
  },
  {
   "cell_type": "code",
   "execution_count": 13,
   "id": "c8f4a62e-fe77-4ee2-93ca-14c67cd598c8",
   "metadata": {},
   "outputs": [
    {
     "name": "stdout",
     "output_type": "stream",
     "text": [
      "Collecting alpha_vantage\n",
      "  Downloading alpha_vantage-3.0.0-py3-none-any.whl.metadata (12 kB)\n",
      "Collecting aiohttp (from alpha_vantage)\n",
      "  Downloading aiohttp-3.10.1-cp312-cp312-manylinux_2_17_x86_64.manylinux2014_x86_64.whl.metadata (7.5 kB)\n",
      "Requirement already satisfied: requests in ./.config/jupyterlab-desktop/jlab_server/lib/python3.12/site-packages (from alpha_vantage) (2.32.2)\n",
      "Collecting aiohappyeyeballs>=2.3.0 (from aiohttp->alpha_vantage)\n",
      "  Downloading aiohappyeyeballs-2.3.5-py3-none-any.whl.metadata (5.8 kB)\n",
      "Collecting aiosignal>=1.1.2 (from aiohttp->alpha_vantage)\n",
      "  Downloading aiosignal-1.3.1-py3-none-any.whl.metadata (4.0 kB)\n",
      "Requirement already satisfied: attrs>=17.3.0 in ./.config/jupyterlab-desktop/jlab_server/lib/python3.12/site-packages (from aiohttp->alpha_vantage) (23.2.0)\n",
      "Collecting frozenlist>=1.1.1 (from aiohttp->alpha_vantage)\n",
      "  Downloading frozenlist-1.4.1-cp312-cp312-manylinux_2_5_x86_64.manylinux1_x86_64.manylinux_2_17_x86_64.manylinux2014_x86_64.whl.metadata (12 kB)\n",
      "Collecting multidict<7.0,>=4.5 (from aiohttp->alpha_vantage)\n",
      "  Downloading multidict-6.0.5-cp312-cp312-manylinux_2_17_x86_64.manylinux2014_x86_64.whl.metadata (4.2 kB)\n",
      "Collecting yarl<2.0,>=1.0 (from aiohttp->alpha_vantage)\n",
      "  Downloading yarl-1.9.4-cp312-cp312-manylinux_2_17_x86_64.manylinux2014_x86_64.whl.metadata (31 kB)\n",
      "Requirement already satisfied: charset-normalizer<4,>=2 in ./.config/jupyterlab-desktop/jlab_server/lib/python3.12/site-packages (from requests->alpha_vantage) (3.3.2)\n",
      "Requirement already satisfied: idna<4,>=2.5 in ./.config/jupyterlab-desktop/jlab_server/lib/python3.12/site-packages (from requests->alpha_vantage) (3.7)\n",
      "Requirement already satisfied: urllib3<3,>=1.21.1 in ./.config/jupyterlab-desktop/jlab_server/lib/python3.12/site-packages (from requests->alpha_vantage) (2.2.1)\n",
      "Requirement already satisfied: certifi>=2017.4.17 in ./.config/jupyterlab-desktop/jlab_server/lib/python3.12/site-packages (from requests->alpha_vantage) (2024.2.2)\n",
      "Downloading alpha_vantage-3.0.0-py3-none-any.whl (35 kB)\n",
      "Downloading aiohttp-3.10.1-cp312-cp312-manylinux_2_17_x86_64.manylinux2014_x86_64.whl (1.3 MB)\n",
      "\u001b[2K   \u001b[90m━━━━━━━━━━━━━━━━━━━━━━━━━━━━━━━━━━━━━━━━\u001b[0m \u001b[32m1.3/1.3 MB\u001b[0m \u001b[31m2.0 MB/s\u001b[0m eta \u001b[36m0:00:00\u001b[0m00:01\u001b[0m00:01\u001b[0m0m\n",
      "\u001b[?25hDownloading aiohappyeyeballs-2.3.5-py3-none-any.whl (12 kB)\n",
      "Downloading aiosignal-1.3.1-py3-none-any.whl (7.6 kB)\n",
      "Downloading frozenlist-1.4.1-cp312-cp312-manylinux_2_5_x86_64.manylinux1_x86_64.manylinux_2_17_x86_64.manylinux2014_x86_64.whl (281 kB)\n",
      "\u001b[2K   \u001b[90m━━━━━━━━━━━━━━━━━━━━━━━━━━━━━━━━━━━━━━━━\u001b[0m \u001b[32m281.5/281.5 kB\u001b[0m \u001b[31m1.4 MB/s\u001b[0m eta \u001b[36m0:00:00\u001b[0m00:01\u001b[0m00:01\u001b[0m\n",
      "\u001b[?25hDownloading multidict-6.0.5-cp312-cp312-manylinux_2_17_x86_64.manylinux2014_x86_64.whl (130 kB)\n",
      "\u001b[2K   \u001b[90m━━━━━━━━━━━━━━━━━━━━━━━━━━━━━━━━━━━━━━━\u001b[0m \u001b[32m130.8/130.8 kB\u001b[0m \u001b[31m783.7 kB/s\u001b[0m eta \u001b[36m0:00:00\u001b[0m \u001b[36m0:00:01\u001b[0m\n",
      "\u001b[?25hDownloading yarl-1.9.4-cp312-cp312-manylinux_2_17_x86_64.manylinux2014_x86_64.whl (322 kB)\n",
      "\u001b[2K   \u001b[90m━━━━━━━━━━━━━━━━━━━━━━━━━━━━━━━━━━━━━━━━\u001b[0m \u001b[32m322.4/322.4 kB\u001b[0m \u001b[31m1.4 MB/s\u001b[0m eta \u001b[36m0:00:00\u001b[0m00:01\u001b[0m00:01\u001b[0m\n",
      "\u001b[?25hInstalling collected packages: multidict, frozenlist, aiohappyeyeballs, yarl, aiosignal, aiohttp, alpha_vantage\n",
      "Successfully installed aiohappyeyeballs-2.3.5 aiohttp-3.10.1 aiosignal-1.3.1 alpha_vantage-3.0.0 frozenlist-1.4.1 multidict-6.0.5 yarl-1.9.4\n",
      "Note: you may need to restart the kernel to use updated packages.\n"
     ]
    }
   ],
   "source": [
    "pip install alpha_vantage"
   ]
  },
  {
   "cell_type": "code",
   "execution_count": 14,
   "id": "3c5ffeb4-edfa-4f17-87e4-1af9b01b2e56",
   "metadata": {},
   "outputs": [
    {
     "name": "stdout",
     "output_type": "stream",
     "text": [
      "Collecting nasdaq-data-link\n",
      "  Downloading Nasdaq_Data_Link-1.0.4-py2.py3-none-any.whl.metadata (1.3 kB)\n",
      "Requirement already satisfied: pandas>=0.14 in ./.config/jupyterlab-desktop/jlab_server/lib/python3.12/site-packages (from nasdaq-data-link) (2.2.2)\n",
      "Requirement already satisfied: numpy>=1.8 in ./.config/jupyterlab-desktop/jlab_server/lib/python3.12/site-packages (from nasdaq-data-link) (1.26.4)\n",
      "Requirement already satisfied: requests>=2.7.0 in ./.config/jupyterlab-desktop/jlab_server/lib/python3.12/site-packages (from nasdaq-data-link) (2.32.2)\n",
      "Collecting inflection>=0.3.1 (from nasdaq-data-link)\n",
      "  Downloading inflection-0.5.1-py2.py3-none-any.whl.metadata (1.7 kB)\n",
      "Requirement already satisfied: python-dateutil in ./.config/jupyterlab-desktop/jlab_server/lib/python3.12/site-packages (from nasdaq-data-link) (2.9.0)\n",
      "Requirement already satisfied: six in ./.config/jupyterlab-desktop/jlab_server/lib/python3.12/site-packages (from nasdaq-data-link) (1.16.0)\n",
      "Collecting more-itertools (from nasdaq-data-link)\n",
      "  Downloading more_itertools-10.3.0-py3-none-any.whl.metadata (36 kB)\n",
      "Requirement already satisfied: pytz>=2020.1 in ./.config/jupyterlab-desktop/jlab_server/lib/python3.12/site-packages (from pandas>=0.14->nasdaq-data-link) (2024.1)\n",
      "Requirement already satisfied: tzdata>=2022.7 in ./.config/jupyterlab-desktop/jlab_server/lib/python3.12/site-packages (from pandas>=0.14->nasdaq-data-link) (2024.1)\n",
      "Requirement already satisfied: charset-normalizer<4,>=2 in ./.config/jupyterlab-desktop/jlab_server/lib/python3.12/site-packages (from requests>=2.7.0->nasdaq-data-link) (3.3.2)\n",
      "Requirement already satisfied: idna<4,>=2.5 in ./.config/jupyterlab-desktop/jlab_server/lib/python3.12/site-packages (from requests>=2.7.0->nasdaq-data-link) (3.7)\n",
      "Requirement already satisfied: urllib3<3,>=1.21.1 in ./.config/jupyterlab-desktop/jlab_server/lib/python3.12/site-packages (from requests>=2.7.0->nasdaq-data-link) (2.2.1)\n",
      "Requirement already satisfied: certifi>=2017.4.17 in ./.config/jupyterlab-desktop/jlab_server/lib/python3.12/site-packages (from requests>=2.7.0->nasdaq-data-link) (2024.2.2)\n",
      "Downloading Nasdaq_Data_Link-1.0.4-py2.py3-none-any.whl (28 kB)\n",
      "Downloading inflection-0.5.1-py2.py3-none-any.whl (9.5 kB)\n",
      "Downloading more_itertools-10.3.0-py3-none-any.whl (59 kB)\n",
      "\u001b[2K   \u001b[90m━━━━━━━━━━━━━━━━━━━━━━━━━━━━━━━━━━━━━━━━\u001b[0m \u001b[32m59.2/59.2 kB\u001b[0m \u001b[31m446.5 kB/s\u001b[0m eta \u001b[36m0:00:00\u001b[0m\u001b[36m0:00:01\u001b[0m\n",
      "\u001b[?25hInstalling collected packages: more-itertools, inflection, nasdaq-data-link\n",
      "Successfully installed inflection-0.5.1 more-itertools-10.3.0 nasdaq-data-link-1.0.4\n",
      "Note: you may need to restart the kernel to use updated packages.\n"
     ]
    }
   ],
   "source": [
    "pip install nasdaq-data-link"
   ]
  },
  {
   "cell_type": "code",
   "execution_count": 15,
   "id": "702d18b7-1d37-4e02-b02a-b61f33f46795",
   "metadata": {},
   "outputs": [
    {
     "name": "stdout",
     "output_type": "stream",
     "text": [
      "Collecting tia\n",
      "  Downloading tia-0.3.0.zip (73 kB)\n",
      "\u001b[2K     \u001b[90m━━━━━━━━━━━━━━━━━━━━━━━━━━━━━━━━━━━━━━━\u001b[0m \u001b[32m73.5/73.5 kB\u001b[0m \u001b[31m350.2 kB/s\u001b[0m eta \u001b[36m0:00:00\u001b[0m00:01\u001b[0m0:01\u001b[0m\n",
      "\u001b[?25h  Preparing metadata (setup.py) ... \u001b[?25ldone\n",
      "\u001b[?25hRequirement already satisfied: pandas in ./.config/jupyterlab-desktop/jlab_server/lib/python3.12/site-packages (from tia) (2.2.2)\n",
      "Requirement already satisfied: numpy in ./.config/jupyterlab-desktop/jlab_server/lib/python3.12/site-packages (from tia) (1.26.4)\n",
      "Requirement already satisfied: python-dateutil>=2.8.2 in ./.config/jupyterlab-desktop/jlab_server/lib/python3.12/site-packages (from pandas->tia) (2.9.0)\n",
      "Requirement already satisfied: pytz>=2020.1 in ./.config/jupyterlab-desktop/jlab_server/lib/python3.12/site-packages (from pandas->tia) (2024.1)\n",
      "Requirement already satisfied: tzdata>=2022.7 in ./.config/jupyterlab-desktop/jlab_server/lib/python3.12/site-packages (from pandas->tia) (2024.1)\n",
      "Requirement already satisfied: six>=1.5 in ./.config/jupyterlab-desktop/jlab_server/lib/python3.12/site-packages (from python-dateutil>=2.8.2->pandas->tia) (1.16.0)\n",
      "Building wheels for collected packages: tia\n",
      "  Building wheel for tia (setup.py) ... \u001b[?25ldone\n",
      "\u001b[?25h  Created wheel for tia: filename=tia-0.3.0-py3-none-any.whl size=72339 sha256=8019236764da90138e3c4e58e38706000588962e1bde9e753407f5d6a3e41a06\n",
      "  Stored in directory: /home/ed/snap/jupyterlab-desktop/common/.cache/pip/wheels/43/5e/b8/efb976c5919127809b3d51747f0e41ebb94f6a03cabd602ba9\n",
      "Successfully built tia\n",
      "Installing collected packages: tia\n",
      "Successfully installed tia-0.3.0\n",
      "Note: you may need to restart the kernel to use updated packages.\n"
     ]
    }
   ],
   "source": [
    "pip install tia"
   ]
  },
  {
   "cell_type": "code",
   "execution_count": 16,
   "id": "ce482792-8235-45ef-b73f-713ca38d6052",
   "metadata": {},
   "outputs": [
    {
     "name": "stdout",
     "output_type": "stream",
     "text": [
      "Collecting tiingo\n",
      "  Downloading tiingo-0.15.6-py2.py3-none-any.whl.metadata (15 kB)\n",
      "Requirement already satisfied: requests in ./.config/jupyterlab-desktop/jlab_server/lib/python3.12/site-packages (from tiingo) (2.32.2)\n",
      "Requirement already satisfied: websocket-client in ./.config/jupyterlab-desktop/jlab_server/lib/python3.12/site-packages (from tiingo) (1.8.0)\n",
      "Requirement already satisfied: charset-normalizer<4,>=2 in ./.config/jupyterlab-desktop/jlab_server/lib/python3.12/site-packages (from requests->tiingo) (3.3.2)\n",
      "Requirement already satisfied: idna<4,>=2.5 in ./.config/jupyterlab-desktop/jlab_server/lib/python3.12/site-packages (from requests->tiingo) (3.7)\n",
      "Requirement already satisfied: urllib3<3,>=1.21.1 in ./.config/jupyterlab-desktop/jlab_server/lib/python3.12/site-packages (from requests->tiingo) (2.2.1)\n",
      "Requirement already satisfied: certifi>=2017.4.17 in ./.config/jupyterlab-desktop/jlab_server/lib/python3.12/site-packages (from requests->tiingo) (2024.2.2)\n",
      "Downloading tiingo-0.15.6-py2.py3-none-any.whl (15 kB)\n",
      "Installing collected packages: tiingo\n",
      "Successfully installed tiingo-0.15.6\n",
      "Note: you may need to restart the kernel to use updated packages.\n"
     ]
    }
   ],
   "source": [
    "pip install tiingo\n"
   ]
  },
  {
   "cell_type": "code",
   "execution_count": 17,
   "id": "79785bd8-6045-4750-b692-168d081b4057",
   "metadata": {},
   "outputs": [
    {
     "name": "stdout",
     "output_type": "stream",
     "text": [
      "Collecting marketstack\n",
      "  Downloading marketstack-0.6.2.tar.gz (30 kB)\n",
      "  Preparing metadata (setup.py) ... \u001b[?25ldone\n",
      "\u001b[?25hRequirement already satisfied: attrs>=22.1.0 in ./.config/jupyterlab-desktop/jlab_server/lib/python3.12/site-packages (from marketstack) (23.2.0)\n",
      "Requirement already satisfied: httpx>=0.23.0 in ./.config/jupyterlab-desktop/jlab_server/lib/python3.12/site-packages (from marketstack) (0.27.0)\n",
      "Requirement already satisfied: python-dateutil>=2.8.2 in ./.config/jupyterlab-desktop/jlab_server/lib/python3.12/site-packages (from marketstack) (2.9.0)\n",
      "Requirement already satisfied: anyio in ./.config/jupyterlab-desktop/jlab_server/lib/python3.12/site-packages (from httpx>=0.23.0->marketstack) (4.3.0)\n",
      "Requirement already satisfied: certifi in ./.config/jupyterlab-desktop/jlab_server/lib/python3.12/site-packages (from httpx>=0.23.0->marketstack) (2024.2.2)\n",
      "Requirement already satisfied: httpcore==1.* in ./.config/jupyterlab-desktop/jlab_server/lib/python3.12/site-packages (from httpx>=0.23.0->marketstack) (1.0.5)\n",
      "Requirement already satisfied: idna in ./.config/jupyterlab-desktop/jlab_server/lib/python3.12/site-packages (from httpx>=0.23.0->marketstack) (3.7)\n",
      "Requirement already satisfied: sniffio in ./.config/jupyterlab-desktop/jlab_server/lib/python3.12/site-packages (from httpx>=0.23.0->marketstack) (1.3.1)\n",
      "Requirement already satisfied: h11<0.15,>=0.13 in ./.config/jupyterlab-desktop/jlab_server/lib/python3.12/site-packages (from httpcore==1.*->httpx>=0.23.0->marketstack) (0.14.0)\n",
      "Requirement already satisfied: six>=1.5 in ./.config/jupyterlab-desktop/jlab_server/lib/python3.12/site-packages (from python-dateutil>=2.8.2->marketstack) (1.16.0)\n",
      "Building wheels for collected packages: marketstack\n",
      "  Building wheel for marketstack (setup.py) ... \u001b[?25ldone\n",
      "\u001b[?25h  Created wheel for marketstack: filename=marketstack-0.6.2-py3-none-any.whl size=85674 sha256=b59c53db16732bc4df03058f7b3df9345fcbe3c3513a28852888c7ee39e174d3\n",
      "  Stored in directory: /home/ed/snap/jupyterlab-desktop/common/.cache/pip/wheels/23/f5/b9/31a55091c76292d5491d2fa5662c8be8486e9fc220d1dd1055\n",
      "Successfully built marketstack\n",
      "Installing collected packages: marketstack\n",
      "Successfully installed marketstack-0.6.2\n",
      "Note: you may need to restart the kernel to use updated packages.\n"
     ]
    }
   ],
   "source": [
    "pip install marketstack"
   ]
  },
  {
   "cell_type": "code",
   "execution_count": 21,
   "id": "a3ddfea9-c7b9-41d5-94ef-8fb339a3babb",
   "metadata": {},
   "outputs": [
    {
     "name": "stdout",
     "output_type": "stream",
     "text": [
      "\u001b[31mERROR: Could not find a version that satisfies the requirement finnhub (from versions: none)\u001b[0m\u001b[31m\n",
      "\u001b[0m\u001b[31mERROR: No matching distribution found for finnhub\u001b[0m\u001b[31m\n",
      "\u001b[0mNote: you may need to restart the kernel to use updated packages.\n"
     ]
    }
   ],
   "source": [
    "%pip install finnhub"
   ]
  },
  {
   "cell_type": "code",
   "execution_count": 23,
   "id": "e50f196d-7f34-45ab-83f7-15399c9e5a7d",
   "metadata": {},
   "outputs": [
    {
     "name": "stdout",
     "output_type": "stream",
     "text": [
      "Collecting alpaca-py\n",
      "  Downloading alpaca_py-0.28.1-py3-none-any.whl.metadata (12 kB)\n",
      "Collecting msgpack<2.0.0,>=1.0.3 (from alpaca-py)\n",
      "  Downloading msgpack-1.0.8-cp312-cp312-manylinux_2_17_x86_64.manylinux2014_x86_64.whl.metadata (9.1 kB)\n",
      "Requirement already satisfied: pandas>=1.5.3 in ./.config/jupyterlab-desktop/jlab_server/lib/python3.12/site-packages (from alpaca-py) (2.2.2)\n",
      "Requirement already satisfied: pydantic<3.0.0,>=2.0.3 in ./.config/jupyterlab-desktop/jlab_server/lib/python3.12/site-packages (from alpaca-py) (2.8.2)\n",
      "Requirement already satisfied: requests<3.0.0,>=2.30.0 in ./.config/jupyterlab-desktop/jlab_server/lib/python3.12/site-packages (from alpaca-py) (2.32.2)\n",
      "Collecting sseclient-py<2.0.0,>=1.7.2 (from alpaca-py)\n",
      "  Downloading sseclient_py-1.8.0-py2.py3-none-any.whl.metadata (2.0 kB)\n",
      "Collecting websockets>=10.4 (from alpaca-py)\n",
      "  Downloading websockets-12.0-cp312-cp312-manylinux_2_5_x86_64.manylinux1_x86_64.manylinux_2_17_x86_64.manylinux2014_x86_64.whl.metadata (6.6 kB)\n",
      "Requirement already satisfied: numpy>=1.26.0 in ./.config/jupyterlab-desktop/jlab_server/lib/python3.12/site-packages (from pandas>=1.5.3->alpaca-py) (1.26.4)\n",
      "Requirement already satisfied: python-dateutil>=2.8.2 in ./.config/jupyterlab-desktop/jlab_server/lib/python3.12/site-packages (from pandas>=1.5.3->alpaca-py) (2.9.0)\n",
      "Requirement already satisfied: pytz>=2020.1 in ./.config/jupyterlab-desktop/jlab_server/lib/python3.12/site-packages (from pandas>=1.5.3->alpaca-py) (2024.1)\n",
      "Requirement already satisfied: tzdata>=2022.7 in ./.config/jupyterlab-desktop/jlab_server/lib/python3.12/site-packages (from pandas>=1.5.3->alpaca-py) (2024.1)\n",
      "Requirement already satisfied: annotated-types>=0.4.0 in ./.config/jupyterlab-desktop/jlab_server/lib/python3.12/site-packages (from pydantic<3.0.0,>=2.0.3->alpaca-py) (0.7.0)\n",
      "Requirement already satisfied: pydantic-core==2.20.1 in ./.config/jupyterlab-desktop/jlab_server/lib/python3.12/site-packages (from pydantic<3.0.0,>=2.0.3->alpaca-py) (2.20.1)\n",
      "Requirement already satisfied: typing-extensions>=4.6.1 in ./.config/jupyterlab-desktop/jlab_server/lib/python3.12/site-packages (from pydantic<3.0.0,>=2.0.3->alpaca-py) (4.11.0)\n",
      "Requirement already satisfied: charset-normalizer<4,>=2 in ./.config/jupyterlab-desktop/jlab_server/lib/python3.12/site-packages (from requests<3.0.0,>=2.30.0->alpaca-py) (3.3.2)\n",
      "Requirement already satisfied: idna<4,>=2.5 in ./.config/jupyterlab-desktop/jlab_server/lib/python3.12/site-packages (from requests<3.0.0,>=2.30.0->alpaca-py) (3.7)\n",
      "Requirement already satisfied: urllib3<3,>=1.21.1 in ./.config/jupyterlab-desktop/jlab_server/lib/python3.12/site-packages (from requests<3.0.0,>=2.30.0->alpaca-py) (2.2.1)\n",
      "Requirement already satisfied: certifi>=2017.4.17 in ./.config/jupyterlab-desktop/jlab_server/lib/python3.12/site-packages (from requests<3.0.0,>=2.30.0->alpaca-py) (2024.2.2)\n",
      "Requirement already satisfied: six>=1.5 in ./.config/jupyterlab-desktop/jlab_server/lib/python3.12/site-packages (from python-dateutil>=2.8.2->pandas>=1.5.3->alpaca-py) (1.16.0)\n",
      "Downloading alpaca_py-0.28.1-py3-none-any.whl (115 kB)\n",
      "\u001b[2K   \u001b[90m━━━━━━━━━━━━━━━━━━━━━━━━━━━━━━━━━━━━━━━\u001b[0m \u001b[32m115.9/115.9 kB\u001b[0m \u001b[31m419.4 kB/s\u001b[0m eta \u001b[36m0:00:00\u001b[0ma \u001b[36m0:00:01\u001b[0m\n",
      "\u001b[?25hDownloading msgpack-1.0.8-cp312-cp312-manylinux_2_17_x86_64.manylinux2014_x86_64.whl (408 kB)\n",
      "\u001b[2K   \u001b[90m━━━━━━━━━━━━━━━━━━━━━━━━━━━━━━━━━━━━━━━━\u001b[0m \u001b[32m408.3/408.3 kB\u001b[0m \u001b[31m1.5 MB/s\u001b[0m eta \u001b[36m0:00:00\u001b[0m00:01\u001b[0m00:01\u001b[0m\n",
      "\u001b[?25hDownloading sseclient_py-1.8.0-py2.py3-none-any.whl (8.8 kB)\n",
      "Downloading websockets-12.0-cp312-cp312-manylinux_2_5_x86_64.manylinux1_x86_64.manylinux_2_17_x86_64.manylinux2014_x86_64.whl (131 kB)\n",
      "\u001b[2K   \u001b[90m━━━━━━━━━━━━━━━━━━━━━━━━━━━━━━━━━━━━━━━\u001b[0m \u001b[32m131.2/131.2 kB\u001b[0m \u001b[31m956.0 kB/s\u001b[0m eta \u001b[36m0:00:00\u001b[0m \u001b[36m0:00:01\u001b[0m\n",
      "\u001b[?25hInstalling collected packages: sseclient-py, websockets, msgpack, alpaca-py\n",
      "Successfully installed alpaca-py-0.28.1 msgpack-1.0.8 sseclient-py-1.8.0 websockets-12.0\n",
      "Note: you may need to restart the kernel to use updated packages.\n"
     ]
    }
   ],
   "source": [
    "pip install alpaca-py"
   ]
  },
  {
   "cell_type": "code",
   "execution_count": 1,
   "id": "f40e036d-95c4-4e35-8460-a10556edc6a4",
   "metadata": {},
   "outputs": [
    {
     "name": "stdout",
     "output_type": "stream",
     "text": [
      "22.21s - pydevd: Sending message related to process being replaced timed-out after 5 seconds\n",
      "\u001b[31mERROR: Could not find a version that satisfies the requirement MetaTrader5 (from versions: none)\u001b[0m\u001b[31m\n",
      "\u001b[0m\u001b[31mERROR: No matching distribution found for MetaTrader5\u001b[0m\u001b[31m\n",
      "\u001b[0mNote: you may need to restart the kernel to use updated packages.\n"
     ]
    }
   ],
   "source": [
    "%pip install MetaTrader5"
   ]
  },
  {
   "cell_type": "code",
   "execution_count": 2,
   "id": "4726fed5-d9ff-447b-8d35-846c9f5e516a",
   "metadata": {},
   "outputs": [
    {
     "name": "stdout",
     "output_type": "stream",
     "text": [
      "47.07s - pydevd: Sending message related to process being replaced timed-out after 5 seconds\n",
      "\u001b[31mERROR: Could not find a version that satisfies the requirement tradier (from versions: none)\u001b[0m\u001b[31m\n",
      "\u001b[0m\u001b[31mERROR: No matching distribution found for tradier\u001b[0m\u001b[31m\n",
      "\u001b[0mNote: you may need to restart the kernel to use updated packages.\n"
     ]
    }
   ],
   "source": [
    "pip install tradier"
   ]
  },
  {
   "cell_type": "code",
   "execution_count": 3,
   "id": "db00ba9e-9ba9-4597-b785-6ee086527ead",
   "metadata": {},
   "outputs": [
    {
     "name": "stdout",
     "output_type": "stream",
     "text": [
      "69.80s - pydevd: Sending message related to process being replaced timed-out after 5 seconds\n",
      "Collecting ccy\n",
      "  Downloading ccy-1.4.1-py3-none-any.whl.metadata (1.7 kB)\n",
      "Collecting pycountry<24.0.0,>=23.12.11 (from ccy)\n",
      "  Downloading pycountry-23.12.11-py3-none-any.whl.metadata (12 kB)\n",
      "Requirement already satisfied: python-dateutil<3.0.0,>=2.8.2 in ./.config/jupyterlab-desktop/jlab_server/lib/python3.12/site-packages (from ccy) (2.9.0)\n",
      "Requirement already satisfied: six>=1.5 in ./.config/jupyterlab-desktop/jlab_server/lib/python3.12/site-packages (from python-dateutil<3.0.0,>=2.8.2->ccy) (1.16.0)\n",
      "Downloading ccy-1.4.1-py3-none-any.whl (16 kB)\n",
      "Downloading pycountry-23.12.11-py3-none-any.whl (6.2 MB)\n",
      "\u001b[2K   \u001b[90m━━━━━━━━━━━━━━━━━━━━━━━━━━━━━━━━━━━━━━━━\u001b[0m \u001b[32m6.2/6.2 MB\u001b[0m \u001b[31m1.9 MB/s\u001b[0m eta \u001b[36m0:00:00\u001b[0m00:01\u001b[0m00:01\u001b[0m0m\n",
      "\u001b[?25hInstalling collected packages: pycountry, ccy\n",
      "Successfully installed ccy-1.4.1 pycountry-23.12.11\n",
      "Note: you may need to restart the kernel to use updated packages.\n"
     ]
    }
   ],
   "source": [
    "pip install ccy"
   ]
  },
  {
   "cell_type": "code",
   "execution_count": 4,
   "id": "c552d5f0-dbc1-43e5-aaa4-64e7bcac75d7",
   "metadata": {},
   "outputs": [
    {
     "name": "stdout",
     "output_type": "stream",
     "text": [
      "112.00s - pydevd: Sending message related to process being replaced timed-out after 5 seconds\n",
      "Collecting twelvedata\n",
      "  Downloading twelvedata-1.2.20-py2.py3-none-any.whl.metadata (19 kB)\n",
      "Collecting pytimeparse<2,>=1.1 (from twelvedata)\n",
      "  Downloading pytimeparse-1.1.8-py2.py3-none-any.whl.metadata (3.4 kB)\n",
      "Requirement already satisfied: requests<3,>=2.22 in ./.config/jupyterlab-desktop/jlab_server/lib/python3.12/site-packages (from twelvedata) (2.32.2)\n",
      "Requirement already satisfied: charset-normalizer<4,>=2 in ./.config/jupyterlab-desktop/jlab_server/lib/python3.12/site-packages (from requests<3,>=2.22->twelvedata) (3.3.2)\n",
      "Requirement already satisfied: idna<4,>=2.5 in ./.config/jupyterlab-desktop/jlab_server/lib/python3.12/site-packages (from requests<3,>=2.22->twelvedata) (3.7)\n",
      "Requirement already satisfied: urllib3<3,>=1.21.1 in ./.config/jupyterlab-desktop/jlab_server/lib/python3.12/site-packages (from requests<3,>=2.22->twelvedata) (2.2.1)\n",
      "Requirement already satisfied: certifi>=2017.4.17 in ./.config/jupyterlab-desktop/jlab_server/lib/python3.12/site-packages (from requests<3,>=2.22->twelvedata) (2024.2.2)\n",
      "Downloading twelvedata-1.2.20-py2.py3-none-any.whl (46 kB)\n",
      "\u001b[2K   \u001b[90m━━━━━━━━━━━━━━━━━━━━━━━━━━━━━━━━━━━━━━━━\u001b[0m \u001b[32m46.2/46.2 kB\u001b[0m \u001b[31m260.1 kB/s\u001b[0m eta \u001b[36m0:00:00\u001b[0ma \u001b[36m0:00:01\u001b[0m\n",
      "\u001b[?25hDownloading pytimeparse-1.1.8-py2.py3-none-any.whl (10.0 kB)\n",
      "Installing collected packages: pytimeparse, twelvedata\n",
      "Successfully installed pytimeparse-1.1.8 twelvedata-1.2.20\n",
      "Note: you may need to restart the kernel to use updated packages.\n"
     ]
    }
   ],
   "source": [
    "pip install twelvedata"
   ]
  },
  {
   "cell_type": "code",
   "execution_count": 5,
   "id": "0aabdb39-04c3-426a-a0d4-2da278f8b843",
   "metadata": {},
   "outputs": [
    {
     "name": "stdout",
     "output_type": "stream",
     "text": [
      "156.75s - pydevd: Sending message related to process being replaced timed-out after 5 seconds\n",
      "Requirement already satisfied: alpaca-py in ./.config/jupyterlab-desktop/jlab_server/lib/python3.12/site-packages (0.28.1)\n",
      "Requirement already satisfied: msgpack<2.0.0,>=1.0.3 in ./.config/jupyterlab-desktop/jlab_server/lib/python3.12/site-packages (from alpaca-py) (1.0.8)\n",
      "Requirement already satisfied: pandas>=1.5.3 in ./.config/jupyterlab-desktop/jlab_server/lib/python3.12/site-packages (from alpaca-py) (2.2.2)\n",
      "Requirement already satisfied: pydantic<3.0.0,>=2.0.3 in ./.config/jupyterlab-desktop/jlab_server/lib/python3.12/site-packages (from alpaca-py) (2.8.2)\n",
      "Requirement already satisfied: requests<3.0.0,>=2.30.0 in ./.config/jupyterlab-desktop/jlab_server/lib/python3.12/site-packages (from alpaca-py) (2.32.2)\n",
      "Requirement already satisfied: sseclient-py<2.0.0,>=1.7.2 in ./.config/jupyterlab-desktop/jlab_server/lib/python3.12/site-packages (from alpaca-py) (1.8.0)\n",
      "Requirement already satisfied: websockets>=10.4 in ./.config/jupyterlab-desktop/jlab_server/lib/python3.12/site-packages (from alpaca-py) (12.0)\n",
      "Requirement already satisfied: numpy>=1.26.0 in ./.config/jupyterlab-desktop/jlab_server/lib/python3.12/site-packages (from pandas>=1.5.3->alpaca-py) (1.26.4)\n",
      "Requirement already satisfied: python-dateutil>=2.8.2 in ./.config/jupyterlab-desktop/jlab_server/lib/python3.12/site-packages (from pandas>=1.5.3->alpaca-py) (2.9.0)\n",
      "Requirement already satisfied: pytz>=2020.1 in ./.config/jupyterlab-desktop/jlab_server/lib/python3.12/site-packages (from pandas>=1.5.3->alpaca-py) (2024.1)\n",
      "Requirement already satisfied: tzdata>=2022.7 in ./.config/jupyterlab-desktop/jlab_server/lib/python3.12/site-packages (from pandas>=1.5.3->alpaca-py) (2024.1)\n",
      "Requirement already satisfied: annotated-types>=0.4.0 in ./.config/jupyterlab-desktop/jlab_server/lib/python3.12/site-packages (from pydantic<3.0.0,>=2.0.3->alpaca-py) (0.7.0)\n",
      "Requirement already satisfied: pydantic-core==2.20.1 in ./.config/jupyterlab-desktop/jlab_server/lib/python3.12/site-packages (from pydantic<3.0.0,>=2.0.3->alpaca-py) (2.20.1)\n",
      "Requirement already satisfied: typing-extensions>=4.6.1 in ./.config/jupyterlab-desktop/jlab_server/lib/python3.12/site-packages (from pydantic<3.0.0,>=2.0.3->alpaca-py) (4.11.0)\n",
      "Requirement already satisfied: charset-normalizer<4,>=2 in ./.config/jupyterlab-desktop/jlab_server/lib/python3.12/site-packages (from requests<3.0.0,>=2.30.0->alpaca-py) (3.3.2)\n",
      "Requirement already satisfied: idna<4,>=2.5 in ./.config/jupyterlab-desktop/jlab_server/lib/python3.12/site-packages (from requests<3.0.0,>=2.30.0->alpaca-py) (3.7)\n",
      "Requirement already satisfied: urllib3<3,>=1.21.1 in ./.config/jupyterlab-desktop/jlab_server/lib/python3.12/site-packages (from requests<3.0.0,>=2.30.0->alpaca-py) (2.2.1)\n",
      "Requirement already satisfied: certifi>=2017.4.17 in ./.config/jupyterlab-desktop/jlab_server/lib/python3.12/site-packages (from requests<3.0.0,>=2.30.0->alpaca-py) (2024.2.2)\n",
      "Requirement already satisfied: six>=1.5 in ./.config/jupyterlab-desktop/jlab_server/lib/python3.12/site-packages (from python-dateutil>=2.8.2->pandas>=1.5.3->alpaca-py) (1.16.0)\n",
      "Note: you may need to restart the kernel to use updated packages.\n"
     ]
    }
   ],
   "source": [
    "  pip install alpaca-py"
   ]
  },
  {
   "cell_type": "markdown",
   "id": "47ccd6d5-c163-4279-830e-6794e27f47de",
   "metadata": {},
   "source": [
    "Python packages for finance - \n",
    "tia\n",
    "ccy\n",
    "IBApi\n",
    "Tiingo\n",
    "Tradier\n",
    "Alpaca\n",
    "Finnhub\n",
    "yfinance\n",
    "inquisitor\n",
    "Wallstreet\n",
    "finsymbols\n",
    "Polygon .io\n",
    "marketstack\n",
    "Twelve Data\n",
    "MetaTrader5\n",
    "googlefinance\n",
    "Stock Extractor\n",
    "Alpha Vantage\n",
    "Nasdaq Data Link\n",
    "pandas-datareader"
   ]
  },
  {
   "cell_type": "code",
   "execution_count": null,
   "id": "1e010088-5d5a-47bc-91a7-adda8ce7858f",
   "metadata": {},
   "outputs": [],
   "source": []
  }
 ],
 "metadata": {
  "kernelspec": {
   "display_name": "Python 3 (ipykernel)",
   "language": "python",
   "name": "python3"
  },
  "language_info": {
   "codemirror_mode": {
    "name": "ipython",
    "version": 3
   },
   "file_extension": ".py",
   "mimetype": "text/x-python",
   "name": "python",
   "nbconvert_exporter": "python",
   "pygments_lexer": "ipython3",
   "version": "3.12.3"
  }
 },
 "nbformat": 4,
 "nbformat_minor": 5
}
