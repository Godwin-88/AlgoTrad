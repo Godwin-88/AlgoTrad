{
 "cells": [
  {
   "cell_type": "code",
   "execution_count": 3,
   "metadata": {},
   "outputs": [
    {
     "name": "stderr",
     "output_type": "stream",
     "text": [
      "[*********************100%%**********************]  1 of 1 completed"
     ]
    },
    {
     "name": "stdout",
     "output_type": "stream",
     "text": [
      "Value-at-Risk: $49,984.90\n"
     ]
    },
    {
     "name": "stderr",
     "output_type": "stream",
     "text": [
      "\n"
     ]
    }
   ],
   "source": [
    "from __future__ import print_function\n",
    "\n",
    "import datetime\n",
    "import numpy as np\n",
    "import yfinance as yf\n",
    "from scipy.stats import norm\n",
    "\n",
    "\n",
    "def var_cov_var(P, c, mu, sigma):\n",
    "    \"\"\"\n",
    "    Variance-Covariance calculation of daily Value-at-Risk\n",
    "    using confidence level c, with mean of returns mu\n",
    "    and standard deviation of returns sigma, on a portfolio\n",
    "    of value P.\n",
    "    \"\"\"\n",
    "    alpha = norm.ppf(1 - c, mu, sigma)\n",
    "    return P - P * (alpha + 1)\n",
    "\n",
    "\n",
    "if __name__ == \"__main__\":\n",
    "    start = datetime.datetime(2010, 1, 1)\n",
    "    end = datetime.datetime(2024, 1, 1)\n",
    "\n",
    "    # Fetch the data from Yahoo Finance using yfinance\n",
    "    citi = yf.download(\"C\", start=start, end=end)\n",
    "    citi[\"rets\"] = citi[\"Adj Close\"].pct_change()\n",
    "\n",
    "    P = 1e6   # 1,000,000 USD\n",
    "    c = 0.99  # 99% confidence interval\n",
    "    mu = np.mean(citi[\"rets\"])\n",
    "    sigma = np.std(citi[\"rets\"])\n",
    "\n",
    "    var = var_cov_var(P, c, mu, sigma)\n",
    "    print(f\"Value-at-Risk: ${var:,.2f}\")\n"
   ]
  }
 ],
 "metadata": {
  "kernelspec": {
   "display_name": "trading",
   "language": "python",
   "name": "python3"
  },
  "language_info": {
   "codemirror_mode": {
    "name": "ipython",
    "version": 3
   },
   "file_extension": ".py",
   "mimetype": "text/x-python",
   "name": "python",
   "nbconvert_exporter": "python",
   "pygments_lexer": "ipython3",
   "version": "3.8.10"
  }
 },
 "nbformat": 4,
 "nbformat_minor": 2
}
