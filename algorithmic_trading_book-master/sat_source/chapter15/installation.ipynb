{
 "cells": [
  {
   "cell_type": "code",
   "execution_count": 2,
   "metadata": {},
   "outputs": [
    {
     "name": "stdout",
     "output_type": "stream",
     "text": [
      "Requirement already satisfied: ibapi in /home/ed/AlgorithmicTrading/trading/lib/python3.8/site-packages (9.81.1.post1)\n",
      "Note: you may need to restart the kernel to use updated packages.\n"
     ]
    }
   ],
   "source": [
    "%pip install ibapi\n"
   ]
  },
  {
   "cell_type": "code",
   "execution_count": 3,
   "metadata": {},
   "outputs": [
    {
     "name": "stdout",
     "output_type": "stream",
     "text": [
      "Collecting ib-insync\n",
      "  Downloading ib_insync-0.9.86-py3-none-any.whl (72 kB)\n",
      "\u001b[K     |████████████████████████████████| 72 kB 131 kB/s eta 0:00:01\n",
      "\u001b[?25hCollecting backports.zoneinfo; python_version < \"3.9\"\n",
      "  Using cached backports.zoneinfo-0.2.1-cp38-cp38-manylinux1_x86_64.whl (74 kB)\n",
      "Collecting eventkit\n",
      "  Downloading eventkit-1.0.3-py3-none-any.whl (31 kB)\n",
      "Requirement already satisfied: nest-asyncio in /home/ed/AlgorithmicTrading/trading/lib/python3.8/site-packages (from ib-insync) (1.6.0)\n",
      "Requirement already satisfied: numpy in /home/ed/AlgorithmicTrading/trading/lib/python3.8/site-packages (from eventkit->ib-insync) (1.24.4)\n",
      "Installing collected packages: backports.zoneinfo, eventkit, ib-insync\n",
      "Successfully installed backports.zoneinfo-0.2.1 eventkit-1.0.3 ib-insync-0.9.86\n",
      "Note: you may need to restart the kernel to use updated packages.\n"
     ]
    }
   ],
   "source": [
    "%pip install ib-insync\n"
   ]
  },
  {
   "cell_type": "code",
   "execution_count": 1,
   "metadata": {},
   "outputs": [
    {
     "name": "stderr",
     "output_type": "stream",
     "text": [
      "[*********************100%%**********************]  1 of 1 completed\n"
     ]
    },
    {
     "name": "stdout",
     "output_type": "stream",
     "text": [
      "                Open      High       Low     Close  Adj Close     Volume\n",
      "Date                                                                    \n",
      "1990-01-02  0.314732  0.334821  0.312500  0.332589   0.262418  183198400\n",
      "1990-01-03  0.339286  0.339286  0.334821  0.334821   0.264179  207995200\n",
      "1990-01-04  0.341518  0.345982  0.332589  0.335938   0.265060  221513600\n",
      "1990-01-05  0.337054  0.341518  0.330357  0.337054   0.265941  123312000\n",
      "1990-01-08  0.334821  0.339286  0.330357  0.339286   0.267702  101572800\n"
     ]
    }
   ],
   "source": [
    "import yfinance as yf\n",
    "import pandas as pd\n",
    "\n",
    "# Define the ticker symbol\n",
    "ticker_symbol = 'AAPL'\n",
    "\n",
    "# Define the start and end dates\n",
    "start_date = '1990-01-01'\n",
    "end_date = pd.Timestamp.today().strftime('%Y-%m-%d')\n",
    "\n",
    "# Fetch the data from Yahoo Finance\n",
    "apple_data = yf.download(ticker_symbol, start=start_date, end=end_date)\n",
    "\n",
    "# Display the first few rows of the data\n",
    "print(apple_data.head())\n",
    "\n",
    "# Save the data to a CSV file\n",
    "apple_data.to_csv('apple_data_1990_to_date.csv')\n"
   ]
  }
 ],
 "metadata": {
  "kernelspec": {
   "display_name": "trading",
   "language": "python",
   "name": "python3"
  },
  "language_info": {
   "codemirror_mode": {
    "name": "ipython",
    "version": 3
   },
   "file_extension": ".py",
   "mimetype": "text/x-python",
   "name": "python",
   "nbconvert_exporter": "python",
   "pygments_lexer": "ipython3",
   "version": "3.8.10"
  }
 },
 "nbformat": 4,
 "nbformat_minor": 2
}
