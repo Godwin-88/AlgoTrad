{
 "cells": [
  {
   "cell_type": "code",
   "execution_count": 4,
   "metadata": {},
   "outputs": [
    {
     "name": "stderr",
     "output_type": "stream",
     "text": [
      "[*********************100%%**********************]  1 of 1 completed\n"
     ]
    },
    {
     "name": "stdout",
     "output_type": "stream",
     "text": [
      "Hit Rates/Confusion Matrices:\n",
      "\n",
      "Logistic Regression:\n",
      "0.513\n",
      "[[ 69  67]\n",
      " [420 444]]\n",
      "\n",
      "LDA:\n",
      "0.513\n",
      "[[ 69  67]\n",
      " [420 444]]\n",
      "\n",
      "QDA:\n",
      "0.503\n",
      "[[ 83  91]\n",
      " [406 420]]\n",
      "\n"
     ]
    },
    {
     "name": "stderr",
     "output_type": "stream",
     "text": [
      "/home/ed/AlgorithmicTrading/trading/lib/python3.8/site-packages/sklearn/svm/_classes.py:32: FutureWarning: The default value of `dual` will change from `True` to `'auto'` in 1.5. Set the value of `dual` explicitly to suppress the warning.\n",
      "  warnings.warn(\n"
     ]
    },
    {
     "name": "stdout",
     "output_type": "stream",
     "text": [
      "Linear SVC:\n",
      "0.513\n",
      "[[ 69  67]\n",
      " [420 444]]\n",
      "\n",
      "SVM (RBF Kernel):\n",
      "0.508\n",
      "[[ 13  16]\n",
      " [476 495]]\n",
      "\n",
      "Random Forest:\n",
      "0.489\n",
      "[[201 223]\n",
      " [288 288]]\n",
      "\n"
     ]
    }
   ],
   "source": [
    "import datetime\n",
    "import numpy as np\n",
    "import pandas as pd\n",
    "from sklearn.model_selection import train_test_split\n",
    "from sklearn.ensemble import RandomForestClassifier\n",
    "from sklearn.linear_model import LogisticRegression\n",
    "from sklearn.discriminant_analysis import LinearDiscriminantAnalysis as LDA\n",
    "from sklearn.metrics import confusion_matrix\n",
    "from sklearn.discriminant_analysis import QuadraticDiscriminantAnalysis as QDA\n",
    "from sklearn.svm import LinearSVC, SVC\n",
    "\n",
    "from create_lagged_series import create_lagged_series\n",
    "\n",
    "\n",
    "def run_models(X_train, X_test, y_train, y_test):\n",
    "    # Define the models\n",
    "    models = {\n",
    "        \"Logistic Regression\": LogisticRegression(),\n",
    "        \"LDA\": LDA(),\n",
    "        \"QDA\": QDA(),\n",
    "        \"Linear SVC\": LinearSVC(),\n",
    "        \"SVM (RBF Kernel)\": SVC(\n",
    "            C=1000000.0, gamma=0.0001, kernel='rbf'\n",
    "        ),\n",
    "        \"Random Forest\": RandomForestClassifier(\n",
    "            n_estimators=1000, max_features='sqrt'\n",
    "        )\n",
    "    }\n",
    "\n",
    "    # Iterate through the models\n",
    "    for name, model in models.items():\n",
    "        # Train the model\n",
    "        model.fit(X_train, y_train)\n",
    "\n",
    "        # Make predictions\n",
    "        pred = model.predict(X_test)\n",
    "\n",
    "        # Output the hit-rate and the confusion matrix for each model\n",
    "        print(f\"{name}:\\n{model.score(X_test, y_test):.3f}\")\n",
    "        print(f\"{confusion_matrix(pred, y_test)}\\n\")\n",
    "\n",
    "\n",
    "if __name__ == \"__main__\":\n",
    "    # Create a lagged series of the S&P500 US stock market index\n",
    "    snpret = create_lagged_series(\n",
    "        \"^GSPC\", datetime.datetime(2001, 1, 10),\n",
    "        datetime.datetime(2005, 12, 31), lags=5\n",
    "    )\n",
    "\n",
    "    # Use the prior two days of returns as predictor values, with direction as the response\n",
    "    X = snpret[[\"Lag1\", \"Lag2\"]]\n",
    "    y = snpret[\"Direction\"]\n",
    "\n",
    "    # Train/test split\n",
    "    X_train, X_test, y_train, y_test = train_test_split(\n",
    "        X, y, test_size=0.8, random_state=42\n",
    "    )\n",
    "\n",
    "    # Run models and print results\n",
    "    print(\"Hit Rates/Confusion Matrices:\\n\")\n",
    "    run_models(X_train, X_test, y_train, y_test)\n",
    "\n"
   ]
  }
 ],
 "metadata": {
  "kernelspec": {
   "display_name": "trading",
   "language": "python",
   "name": "python3"
  },
  "language_info": {
   "codemirror_mode": {
    "name": "ipython",
    "version": 3
   },
   "file_extension": ".py",
   "mimetype": "text/x-python",
   "name": "python",
   "nbconvert_exporter": "python",
   "pygments_lexer": "ipython3",
   "version": "3.8.10"
  }
 },
 "nbformat": 4,
 "nbformat_minor": 2
}
