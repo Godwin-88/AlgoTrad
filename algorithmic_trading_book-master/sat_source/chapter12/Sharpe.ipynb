{
 "cells": [
  {
   "cell_type": "code",
   "execution_count": 2,
   "metadata": {},
   "outputs": [
    {
     "name": "stderr",
     "output_type": "stream",
     "text": [
      "[*********************100%%**********************]  1 of 1 completed\n",
      "[*********************100%%**********************]  1 of 1 completed\n",
      "[*********************100%%**********************]  1 of 1 completed\n"
     ]
    },
    {
     "name": "stdout",
     "output_type": "stream",
     "text": [
      "Google Sharpe Ratio: 0.6683542322787808\n",
      "Google Market Neutral Sharpe Ratio: 0.8283144746003569\n"
     ]
    }
   ],
   "source": [
    "from __future__ import print_function\n",
    "import datetime\n",
    "import numpy as np\n",
    "import pandas as pd\n",
    "import yfinance as yf\n",
    "\n",
    "\n",
    "def annualised_sharpe(returns, N=252):\n",
    "    \"\"\"\n",
    "    Calculate the annualised Sharpe ratio of a returns stream\n",
    "    based on a number of trading periods, N. N defaults to 252,\n",
    "    which then assumes a stream of daily returns.\n",
    "\n",
    "    The function assumes that the returns are the excess of\n",
    "    those compared to a benchmark.\n",
    "    \"\"\"\n",
    "    return np.sqrt(N) * returns.mean() / returns.std()\n",
    "\n",
    "\n",
    "def equity_sharpe(ticker):\n",
    "    \"\"\"\n",
    "    Calculates the annualised Sharpe ratio based on the daily\n",
    "    returns of an equity ticker symbol listed in Yahoo Finance.\n",
    "\n",
    "    The dates have been hardcoded here for brevity.\n",
    "    \"\"\"\n",
    "    start = datetime.datetime(2000, 1, 1)\n",
    "    end = datetime.datetime(2024, 1, 1)\n",
    "\n",
    "    # Obtain the equities daily historic data for the desired time period\n",
    "    pdf = yf.download(ticker, start=start, end=end)\n",
    "\n",
    "    # Use the percentage change method to easily calculate daily returns\n",
    "    pdf['daily_ret'] = pdf['Close'].pct_change()\n",
    "\n",
    "    # Assume an average annual risk-free rate over the period of 5%\n",
    "    pdf['excess_daily_ret'] = pdf['daily_ret'] - 0.05/252\n",
    "\n",
    "    # Return the annualised Sharpe ratio based on the excess daily returns\n",
    "    return annualised_sharpe(pdf['excess_daily_ret'])\n",
    "\n",
    "\n",
    "def market_neutral_sharpe(ticker, benchmark):\n",
    "    \"\"\"\n",
    "    Calculates the annualised Sharpe ratio of a market\n",
    "    neutral long/short strategy involving the long of 'ticker'\n",
    "    with a corresponding short of the 'benchmark'.\n",
    "    \"\"\"\n",
    "    start = datetime.datetime(2000, 1, 1)\n",
    "    end = datetime.datetime(2013, 1, 1)\n",
    "\n",
    "    # Get historic data for both a symbol/ticker and a benchmark ticker\n",
    "    tick = yf.download(ticker, start=start, end=end)\n",
    "    bench = yf.download(benchmark, start=start, end=end)\n",
    "\n",
    "    # Calculate the percentage returns on each of the time series\n",
    "    tick['daily_ret'] = tick['Close'].pct_change()\n",
    "    bench['daily_ret'] = bench['Close'].pct_change()\n",
    "\n",
    "    # Create a new DataFrame to store the strategy information\n",
    "    # The net returns are (long - short)/2, since there is twice\n",
    "    # the trading capital for this strategy\n",
    "    strat = pd.DataFrame(index=tick.index)\n",
    "    strat['net_ret'] = (tick['daily_ret'] - bench['daily_ret']) / 2.0\n",
    "\n",
    "    # Return the annualised Sharpe ratio for this strategy\n",
    "    return annualised_sharpe(strat['net_ret'])\n",
    "\n",
    "\n",
    "if __name__ == \"__main__\":\n",
    "    print(f\"Google Sharpe Ratio: {equity_sharpe('GOOG')}\")\n",
    "    print(f\"Google Market Neutral Sharpe Ratio: {market_neutral_sharpe('GOOG', 'SPY')}\")\n"
   ]
  }
 ],
 "metadata": {
  "kernelspec": {
   "display_name": "trading",
   "language": "python",
   "name": "python3"
  },
  "language_info": {
   "codemirror_mode": {
    "name": "ipython",
    "version": 3
   },
   "file_extension": ".py",
   "mimetype": "text/x-python",
   "name": "python",
   "nbconvert_exporter": "python",
   "pygments_lexer": "ipython3",
   "version": "3.8.10"
  }
 },
 "nbformat": 4,
 "nbformat_minor": 2
}
